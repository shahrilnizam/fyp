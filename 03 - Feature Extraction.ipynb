{
 "cells": [
  {
   "cell_type": "code",
   "execution_count": 2,
   "id": "209dc4a2",
   "metadata": {},
   "outputs": [],
   "source": [
    "import numpy as np\n",
    "import os, random, shufflenet\n",
    "import tensorflow as tf"
   ]
  },
  {
   "cell_type": "code",
   "execution_count": 2,
   "id": "8e65a684",
   "metadata": {},
   "outputs": [
    {
     "data": {
      "text/plain": [
       "((3200, 30, 160, 160, 3), (800, 30, 160, 160, 3))"
      ]
     },
     "execution_count": 2,
     "metadata": {},
     "output_type": "execute_result"
    }
   ],
   "source": [
    "### LOAD DATASET ARRAYS\n",
    "data_training_ar = np.load(r\"H:\\FYP\\final\\splitted dataset\\TrainingData.npy\")\n",
    "data_test_ar = np.load(r\"H:\\FYP\\final\\splitted dataset\\TestingData.npy\")\n",
    "\n",
    "data_training_ar.shape, data_test_ar.shape"
   ]
  },
  {
   "cell_type": "code",
   "execution_count": 3,
   "id": "faf42dd9",
   "metadata": {},
   "outputs": [
    {
     "data": {
      "text/plain": [
       "((96000, 160, 160, 3), (24000, 160, 160, 3))"
      ]
     },
     "execution_count": 3,
     "metadata": {},
     "output_type": "execute_result"
    }
   ],
   "source": [
    "### RESHAPING THE DATA\n",
    "data_training_ar = data_training_ar.reshape(data_training_ar.shape[0]*30,160,160,3)\n",
    "data_test_ar = data_test_ar.reshape(data_test_ar.shape[0]*30,160,160,3)\n",
    "\n",
    "data_training_ar.shape, data_test_ar.shape"
   ]
  },
  {
   "cell_type": "code",
   "execution_count": 6,
   "id": "3fd7e430",
   "metadata": {},
   "outputs": [],
   "source": [
    "base_model=tf.keras.applications.DenseNet121(input_shape=(160,160,3), include_top=False, weights=None, input_tensor=tf.keras.layers.Input(shape=(160,160,3)))\n",
    "base_model.summary()"
   ]
  },
  {
   "cell_type": "code",
   "execution_count": 5,
   "id": "78f94f92",
   "metadata": {},
   "outputs": [
    {
     "name": "stdout",
     "output_type": "stream",
     "text": [
      "(96000, 5, 5, 1024)\n",
      "(24000, 5, 5, 1024)\n"
     ]
    }
   ],
   "source": [
    "### INSERT DATASET TO MOBILENETV2 BASE MODEL\n",
    "np.random.seed(42)\n",
    "X_train = base_model.predict(data_training_ar)\n",
    "print(X_train.shape)\n",
    "X_test = base_model.predict(data_test_ar)\n",
    "print(X_test.shape)"
   ]
  },
  {
   "cell_type": "code",
   "execution_count": 6,
   "id": "02fa420a",
   "metadata": {},
   "outputs": [
    {
     "data": {
      "text/plain": [
       "((3200, 30, 25600), (800, 30, 25600))"
      ]
     },
     "execution_count": 6,
     "metadata": {},
     "output_type": "execute_result"
    }
   ],
   "source": [
    "### RESHAPE PREDICT RESULT TO INSERT LSTM\n",
    "try:\n",
    "    X_train_reshaped = X_train.reshape(int(X_train.shape[0]/30), 30, int(X_train.shape[1])*int(X_train.shape[2])*int(X_train.shape[3]))\n",
    "except:\n",
    "    X_train_reshaped = X_train.reshape(int(X_train.shape[0]/30), 30, int(X_train.shape[1]))\n",
    "\n",
    "try:\n",
    "    X_test_reshaped = X_test.reshape(int(X_test.shape[0]/30), 30, int(X_train.shape[1])*int(X_train.shape[2])*int(X_train.shape[3]))\n",
    "except:\n",
    "    X_test_reshaped = X_test.reshape(int(X_test.shape[0]/30), 30, int(X_train.shape[1]))\n",
    "\n",
    "X_train_reshaped.shape, X_test_reshaped.shape"
   ]
  },
  {
   "cell_type": "code",
   "execution_count": 7,
   "id": "2c1a9a15",
   "metadata": {},
   "outputs": [
    {
     "name": "stdout",
     "output_type": "stream",
     "text": [
      "Done\n"
     ]
    }
   ],
   "source": [
    "### SAVE RESHAPED RESULT FILE\n",
    "np.save(r\"H:\\FYP\\final\\Training_Extracted_MobileNet.npy\", X_train_reshaped)\n",
    "np.save(r\"H:\\FYP\\final\\Testing_Extracted_MobileNet.npy\", X_test_reshaped)\n",
    "print(\"Done\")"
   ]
  },
  {
   "cell_type": "code",
   "execution_count": null,
   "id": "1ffb8d9c",
   "metadata": {},
   "outputs": [],
   "source": []
  }
 ],
 "metadata": {
  "kernelspec": {
   "display_name": "Python 3.9.7 ('base')",
   "language": "python",
   "name": "python3"
  },
  "language_info": {
   "codemirror_mode": {
    "name": "ipython",
    "version": 3
   },
   "file_extension": ".py",
   "mimetype": "text/x-python",
   "name": "python",
   "nbconvert_exporter": "python",
   "pygments_lexer": "ipython3",
   "version": "3.9.7"
  },
  "vscode": {
   "interpreter": {
    "hash": "f08154012ddadd8e950e6e9e035c7a7b32c136e7647e9b7c77e02eb723a8bedb"
   }
  }
 },
 "nbformat": 4,
 "nbformat_minor": 5
}
