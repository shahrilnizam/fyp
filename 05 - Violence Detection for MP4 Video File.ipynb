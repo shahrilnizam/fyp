{
 "cells": [
  {
   "cell_type": "code",
   "execution_count": 5,
   "id": "f8b0641d",
   "metadata": {},
   "outputs": [
    {
     "ename": "AttributeError",
     "evalue": "module 'scipy' has no attribute '_lib'",
     "output_type": "error",
     "traceback": [
      "\u001b[1;31m---------------------------------------------------------------------------\u001b[0m",
      "\u001b[1;31mAttributeError\u001b[0m                            Traceback (most recent call last)",
      "\u001b[1;32mc:\\Users\\User\\FYP\\CodenOutput\\projectrvd\\05 - Violence Detection for MP4 Video File.ipynb Cell 1\u001b[0m in \u001b[0;36m<cell line: 9>\u001b[1;34m()\u001b[0m\n\u001b[0;32m      <a href='vscode-notebook-cell:/c%3A/Users/User/FYP/CodenOutput/projectrvd/05%20-%20Violence%20Detection%20for%20MP4%20Video%20File.ipynb#W0sZmlsZQ%3D%3D?line=5'>6</a>\u001b[0m \u001b[39mimport\u001b[39;00m \u001b[39mtime\u001b[39;00m \n\u001b[0;32m      <a href='vscode-notebook-cell:/c%3A/Users/User/FYP/CodenOutput/projectrvd/05%20-%20Violence%20Detection%20for%20MP4%20Video%20File.ipynb#W0sZmlsZQ%3D%3D?line=7'>8</a>\u001b[0m \u001b[39mfrom\u001b[39;00m \u001b[39mskimage\u001b[39;00m\u001b[39m.\u001b[39;00m\u001b[39mio\u001b[39;00m \u001b[39mimport\u001b[39;00m imread\n\u001b[1;32m----> <a href='vscode-notebook-cell:/c%3A/Users/User/FYP/CodenOutput/projectrvd/05%20-%20Violence%20Detection%20for%20MP4%20Video%20File.ipynb#W0sZmlsZQ%3D%3D?line=8'>9</a>\u001b[0m \u001b[39mfrom\u001b[39;00m \u001b[39mskimage\u001b[39;00m\u001b[39m.\u001b[39;00m\u001b[39mtransform\u001b[39;00m \u001b[39mimport\u001b[39;00m resize \n\u001b[0;32m     <a href='vscode-notebook-cell:/c%3A/Users/User/FYP/CodenOutput/projectrvd/05%20-%20Violence%20Detection%20for%20MP4%20Video%20File.ipynb#W0sZmlsZQ%3D%3D?line=9'>10</a>\u001b[0m \u001b[39mfrom\u001b[39;00m \u001b[39mPIL\u001b[39;00m \u001b[39mimport\u001b[39;00m Image, ImageFont, ImageDraw \u001b[39m# add caption by using custom font\u001b[39;00m\n\u001b[0;32m     <a href='vscode-notebook-cell:/c%3A/Users/User/FYP/CodenOutput/projectrvd/05%20-%20Violence%20Detection%20for%20MP4%20Video%20File.ipynb#W0sZmlsZQ%3D%3D?line=10'>11</a>\u001b[0m \u001b[39mfrom\u001b[39;00m \u001b[39mcollections\u001b[39;00m \u001b[39mimport\u001b[39;00m deque\n",
      "File \u001b[1;32mc:\\Python38\\lib\\site-packages\\skimage\\transform\\__init__.py:4\u001b[0m, in \u001b[0;36m<module>\u001b[1;34m\u001b[0m\n\u001b[0;32m      1\u001b[0m \u001b[39mfrom\u001b[39;00m \u001b[39m.\u001b[39;00m\u001b[39mhough_transform\u001b[39;00m \u001b[39mimport\u001b[39;00m (hough_line, hough_line_peaks,\n\u001b[0;32m      2\u001b[0m                               probabilistic_hough_line, hough_circle,\n\u001b[0;32m      3\u001b[0m                               hough_circle_peaks, hough_ellipse)\n\u001b[1;32m----> 4\u001b[0m \u001b[39mfrom\u001b[39;00m \u001b[39m.\u001b[39;00m\u001b[39mradon_transform\u001b[39;00m \u001b[39mimport\u001b[39;00m (radon, iradon, iradon_sart,\n\u001b[0;32m      5\u001b[0m                               order_angles_golden_ratio)\n\u001b[0;32m      6\u001b[0m \u001b[39mfrom\u001b[39;00m \u001b[39m.\u001b[39;00m\u001b[39mfinite_radon_transform\u001b[39;00m \u001b[39mimport\u001b[39;00m frt2, ifrt2\n\u001b[0;32m      7\u001b[0m \u001b[39mfrom\u001b[39;00m \u001b[39m.\u001b[39;00m\u001b[39mintegral\u001b[39;00m \u001b[39mimport\u001b[39;00m integral_image, integrate\n",
      "File \u001b[1;32mc:\\Python38\\lib\\site-packages\\skimage\\transform\\radon_transform.py:6\u001b[0m, in \u001b[0;36m<module>\u001b[1;34m\u001b[0m\n\u001b[0;32m      4\u001b[0m \u001b[39mfrom\u001b[39;00m \u001b[39mscipy\u001b[39;00m\u001b[39m.\u001b[39;00m\u001b[39mconstants\u001b[39;00m \u001b[39mimport\u001b[39;00m golden_ratio\n\u001b[0;32m      5\u001b[0m \u001b[39mfrom\u001b[39;00m \u001b[39mscipy\u001b[39;00m\u001b[39m.\u001b[39;00m\u001b[39mfft\u001b[39;00m \u001b[39mimport\u001b[39;00m fft, ifft, fftfreq, fftshift\n\u001b[1;32m----> 6\u001b[0m \u001b[39mfrom\u001b[39;00m \u001b[39m.\u001b[39;00m\u001b[39m_warps\u001b[39;00m \u001b[39mimport\u001b[39;00m warp\n\u001b[0;32m      7\u001b[0m \u001b[39mfrom\u001b[39;00m \u001b[39m.\u001b[39;00m\u001b[39m_radon_transform\u001b[39;00m \u001b[39mimport\u001b[39;00m sart_projection_update\n\u001b[0;32m      8\u001b[0m \u001b[39mfrom\u001b[39;00m \u001b[39m.\u001b[39;00m\u001b[39m.\u001b[39;00m\u001b[39m_shared\u001b[39;00m\u001b[39m.\u001b[39;00m\u001b[39mutils\u001b[39;00m \u001b[39mimport\u001b[39;00m convert_to_float\n",
      "File \u001b[1;32mc:\\Python38\\lib\\site-packages\\skimage\\transform\\_warps.py:9\u001b[0m, in \u001b[0;36m<module>\u001b[1;34m\u001b[0m\n\u001b[0;32m      6\u001b[0m \u001b[39mfrom\u001b[39;00m \u001b[39m.\u001b[39;00m\u001b[39m_geometric\u001b[39;00m \u001b[39mimport\u001b[39;00m (SimilarityTransform, AffineTransform,\n\u001b[0;32m      7\u001b[0m                          ProjectiveTransform)\n\u001b[0;32m      8\u001b[0m \u001b[39mfrom\u001b[39;00m \u001b[39m.\u001b[39;00m\u001b[39m_warps_cy\u001b[39;00m \u001b[39mimport\u001b[39;00m _warp_fast\n\u001b[1;32m----> 9\u001b[0m \u001b[39mfrom\u001b[39;00m \u001b[39m.\u001b[39;00m\u001b[39m.\u001b[39;00m\u001b[39mmeasure\u001b[39;00m \u001b[39mimport\u001b[39;00m block_reduce\n\u001b[0;32m     11\u001b[0m \u001b[39mfrom\u001b[39;00m \u001b[39m.\u001b[39;00m\u001b[39m.\u001b[39;00m\u001b[39m_shared\u001b[39;00m\u001b[39m.\u001b[39;00m\u001b[39mutils\u001b[39;00m \u001b[39mimport\u001b[39;00m (get_bound_method_class, safe_as_int, warn,\n\u001b[0;32m     12\u001b[0m                              convert_to_float, _to_ndimage_mode,\n\u001b[0;32m     13\u001b[0m                              _validate_interpolation_order,\n\u001b[0;32m     14\u001b[0m                              channel_as_last_axis,\n\u001b[0;32m     15\u001b[0m                              deprecate_multichannel_kwarg)\n\u001b[0;32m     17\u001b[0m HOMOGRAPHY_TRANSFORMS \u001b[39m=\u001b[39m (\n\u001b[0;32m     18\u001b[0m     SimilarityTransform,\n\u001b[0;32m     19\u001b[0m     AffineTransform,\n\u001b[0;32m     20\u001b[0m     ProjectiveTransform\n\u001b[0;32m     21\u001b[0m )\n",
      "File \u001b[1;32mc:\\Python38\\lib\\site-packages\\skimage\\measure\\__init__.py:6\u001b[0m, in \u001b[0;36m<module>\u001b[1;34m\u001b[0m\n\u001b[0;32m      3\u001b[0m \u001b[39mfrom\u001b[39;00m \u001b[39m.\u001b[39;00m\u001b[39m_marching_cubes_classic\u001b[39;00m \u001b[39mimport\u001b[39;00m mesh_surface_area\n\u001b[0;32m      4\u001b[0m \u001b[39mfrom\u001b[39;00m \u001b[39m.\u001b[39;00m\u001b[39m_regionprops\u001b[39;00m \u001b[39mimport\u001b[39;00m (regionprops, perimeter,\n\u001b[0;32m      5\u001b[0m                            perimeter_crofton, euler_number, regionprops_table)\n\u001b[1;32m----> 6\u001b[0m \u001b[39mfrom\u001b[39;00m \u001b[39m.\u001b[39;00m\u001b[39m_polygon\u001b[39;00m \u001b[39mimport\u001b[39;00m approximate_polygon, subdivide_polygon\n\u001b[0;32m      7\u001b[0m \u001b[39mfrom\u001b[39;00m \u001b[39m.\u001b[39;00m\u001b[39mpnpoly\u001b[39;00m \u001b[39mimport\u001b[39;00m points_in_poly, grid_points_in_poly\n\u001b[0;32m      8\u001b[0m \u001b[39mfrom\u001b[39;00m \u001b[39m.\u001b[39;00m\u001b[39m_moments\u001b[39;00m \u001b[39mimport\u001b[39;00m (moments, moments_central, moments_coords,\n\u001b[0;32m      9\u001b[0m                        moments_coords_central, moments_normalized, centroid,\n\u001b[0;32m     10\u001b[0m                        moments_hu, inertia_tensor, inertia_tensor_eigvals)\n",
      "File \u001b[1;32mc:\\Python38\\lib\\site-packages\\skimage\\measure\\_polygon.py:2\u001b[0m, in \u001b[0;36m<module>\u001b[1;34m\u001b[0m\n\u001b[0;32m      1\u001b[0m \u001b[39mimport\u001b[39;00m \u001b[39mnumpy\u001b[39;00m \u001b[39mas\u001b[39;00m \u001b[39mnp\u001b[39;00m\n\u001b[1;32m----> 2\u001b[0m \u001b[39mfrom\u001b[39;00m \u001b[39mscipy\u001b[39;00m \u001b[39mimport\u001b[39;00m signal\n\u001b[0;32m      5\u001b[0m \u001b[39mdef\u001b[39;00m \u001b[39mapproximate_polygon\u001b[39m(coords, tolerance):\n\u001b[0;32m      6\u001b[0m     \u001b[39m\"\"\"Approximate a polygonal chain with the specified tolerance.\u001b[39;00m\n\u001b[0;32m      7\u001b[0m \n\u001b[0;32m      8\u001b[0m \u001b[39m    It is based on the Douglas-Peucker algorithm.\u001b[39;00m\n\u001b[1;32m   (...)\u001b[0m\n\u001b[0;32m     29\u001b[0m \u001b[39m    .. [1] https://en.wikipedia.org/wiki/Ramer-Douglas-Peucker_algorithm\u001b[39;00m\n\u001b[0;32m     30\u001b[0m \u001b[39m    \"\"\"\u001b[39;00m\n",
      "File \u001b[1;32mc:\\Python38\\lib\\site-packages\\scipy\\signal\\__init__.py:323\u001b[0m, in \u001b[0;36m<module>\u001b[1;34m\u001b[0m\n\u001b[0;32m    314\u001b[0m \u001b[39mfrom\u001b[39;00m \u001b[39m.\u001b[39;00m\u001b[39m_spline\u001b[39;00m \u001b[39mimport\u001b[39;00m (  \u001b[39m# noqa: F401\u001b[39;00m\n\u001b[0;32m    315\u001b[0m     cspline2d,\n\u001b[0;32m    316\u001b[0m     qspline2d,\n\u001b[1;32m   (...)\u001b[0m\n\u001b[0;32m    319\u001b[0m     symiirorder2,\n\u001b[0;32m    320\u001b[0m )\n\u001b[0;32m    322\u001b[0m \u001b[39mfrom\u001b[39;00m \u001b[39m.\u001b[39;00m\u001b[39m_bsplines\u001b[39;00m \u001b[39mimport\u001b[39;00m \u001b[39m*\u001b[39m\n\u001b[1;32m--> 323\u001b[0m \u001b[39mfrom\u001b[39;00m \u001b[39m.\u001b[39;00m\u001b[39m_filter_design\u001b[39;00m \u001b[39mimport\u001b[39;00m \u001b[39m*\u001b[39m\n\u001b[0;32m    324\u001b[0m \u001b[39mfrom\u001b[39;00m \u001b[39m.\u001b[39;00m\u001b[39m_fir_filter_design\u001b[39;00m \u001b[39mimport\u001b[39;00m \u001b[39m*\u001b[39m\n\u001b[0;32m    325\u001b[0m \u001b[39mfrom\u001b[39;00m \u001b[39m.\u001b[39;00m\u001b[39m_ltisys\u001b[39;00m \u001b[39mimport\u001b[39;00m \u001b[39m*\u001b[39m\n",
      "File \u001b[1;32mc:\\Python38\\lib\\site-packages\\scipy\\signal\\_filter_design.py:16\u001b[0m, in \u001b[0;36m<module>\u001b[1;34m\u001b[0m\n\u001b[0;32m     13\u001b[0m \u001b[39mfrom\u001b[39;00m \u001b[39mnumpy\u001b[39;00m\u001b[39m.\u001b[39;00m\u001b[39mpolynomial\u001b[39;00m\u001b[39m.\u001b[39;00m\u001b[39mpolynomial\u001b[39;00m \u001b[39mimport\u001b[39;00m polyval \u001b[39mas\u001b[39;00m npp_polyval\n\u001b[0;32m     14\u001b[0m \u001b[39mfrom\u001b[39;00m \u001b[39mnumpy\u001b[39;00m\u001b[39m.\u001b[39;00m\u001b[39mpolynomial\u001b[39;00m\u001b[39m.\u001b[39;00m\u001b[39mpolynomial\u001b[39;00m \u001b[39mimport\u001b[39;00m polyvalfromroots\n\u001b[1;32m---> 16\u001b[0m \u001b[39mfrom\u001b[39;00m \u001b[39mscipy\u001b[39;00m \u001b[39mimport\u001b[39;00m special, optimize, fft \u001b[39mas\u001b[39;00m sp_fft\n\u001b[0;32m     17\u001b[0m \u001b[39mfrom\u001b[39;00m \u001b[39mscipy\u001b[39;00m\u001b[39m.\u001b[39;00m\u001b[39mspecial\u001b[39;00m \u001b[39mimport\u001b[39;00m comb\n\u001b[0;32m     18\u001b[0m \u001b[39mfrom\u001b[39;00m \u001b[39mscipy\u001b[39;00m\u001b[39m.\u001b[39;00m\u001b[39m_lib\u001b[39;00m\u001b[39m.\u001b[39;00m\u001b[39m_util\u001b[39;00m \u001b[39mimport\u001b[39;00m float_factorial\n",
      "File \u001b[1;32mc:\\Python38\\lib\\site-packages\\scipy\\optimize\\__init__.py:399\u001b[0m, in \u001b[0;36m<module>\u001b[1;34m\u001b[0m\n\u001b[0;32m      1\u001b[0m \u001b[39m\"\"\"\u001b[39;00m\n\u001b[0;32m      2\u001b[0m \u001b[39m=====================================================\u001b[39;00m\n\u001b[0;32m      3\u001b[0m \u001b[39mOptimization and root finding (:mod:`scipy.optimize`)\u001b[39;00m\n\u001b[1;32m   (...)\u001b[0m\n\u001b[0;32m    396\u001b[0m \n\u001b[0;32m    397\u001b[0m \u001b[39m\"\"\"\u001b[39;00m\n\u001b[1;32m--> 399\u001b[0m \u001b[39mfrom\u001b[39;00m \u001b[39m.\u001b[39;00m\u001b[39m_optimize\u001b[39;00m \u001b[39mimport\u001b[39;00m \u001b[39m*\u001b[39m\n\u001b[0;32m    400\u001b[0m \u001b[39mfrom\u001b[39;00m \u001b[39m.\u001b[39;00m\u001b[39m_minimize\u001b[39;00m \u001b[39mimport\u001b[39;00m \u001b[39m*\u001b[39m\n\u001b[0;32m    401\u001b[0m \u001b[39mfrom\u001b[39;00m \u001b[39m.\u001b[39;00m\u001b[39m_root\u001b[39;00m \u001b[39mimport\u001b[39;00m \u001b[39m*\u001b[39m\n",
      "File \u001b[1;32mc:\\Python38\\lib\\site-packages\\scipy\\optimize\\_optimize.py:33\u001b[0m, in \u001b[0;36m<module>\u001b[1;34m\u001b[0m\n\u001b[0;32m     30\u001b[0m \u001b[39mfrom\u001b[39;00m \u001b[39mnumpy\u001b[39;00m \u001b[39mimport\u001b[39;00m (atleast_1d, eye, argmin, zeros, shape, squeeze,\n\u001b[0;32m     31\u001b[0m                    asarray, sqrt, Inf, asfarray)\n\u001b[0;32m     32\u001b[0m \u001b[39mimport\u001b[39;00m \u001b[39mnumpy\u001b[39;00m \u001b[39mas\u001b[39;00m \u001b[39mnp\u001b[39;00m\n\u001b[1;32m---> 33\u001b[0m \u001b[39mfrom\u001b[39;00m \u001b[39mscipy\u001b[39;00m\u001b[39m.\u001b[39;00m\u001b[39msparse\u001b[39;00m\u001b[39m.\u001b[39;00m\u001b[39mlinalg\u001b[39;00m \u001b[39mimport\u001b[39;00m LinearOperator\n\u001b[0;32m     34\u001b[0m \u001b[39mfrom\u001b[39;00m \u001b[39m.\u001b[39;00m\u001b[39m_linesearch\u001b[39;00m \u001b[39mimport\u001b[39;00m (line_search_wolfe1, line_search_wolfe2,\n\u001b[0;32m     35\u001b[0m                           line_search_wolfe2 \u001b[39mas\u001b[39;00m line_search,\n\u001b[0;32m     36\u001b[0m                           LineSearchWarning)\n\u001b[0;32m     37\u001b[0m \u001b[39mfrom\u001b[39;00m \u001b[39m.\u001b[39;00m\u001b[39m_numdiff\u001b[39;00m \u001b[39mimport\u001b[39;00m approx_derivative\n",
      "File \u001b[1;32mc:\\Python38\\lib\\site-packages\\scipy\\sparse\\linalg\\__init__.py:120\u001b[0m, in \u001b[0;36m<module>\u001b[1;34m\u001b[0m\n\u001b[0;32m      1\u001b[0m \u001b[39m\"\"\"\u001b[39;00m\n\u001b[0;32m      2\u001b[0m \u001b[39mSparse linear algebra (:mod:`scipy.sparse.linalg`)\u001b[39;00m\n\u001b[0;32m      3\u001b[0m \u001b[39m==================================================\u001b[39;00m\n\u001b[1;32m   (...)\u001b[0m\n\u001b[0;32m    117\u001b[0m \n\u001b[0;32m    118\u001b[0m \u001b[39m\"\"\"\u001b[39;00m\n\u001b[1;32m--> 120\u001b[0m \u001b[39mfrom\u001b[39;00m \u001b[39m.\u001b[39;00m\u001b[39m_isolve\u001b[39;00m \u001b[39mimport\u001b[39;00m \u001b[39m*\u001b[39m\n\u001b[0;32m    121\u001b[0m \u001b[39mfrom\u001b[39;00m \u001b[39m.\u001b[39;00m\u001b[39m_dsolve\u001b[39;00m \u001b[39mimport\u001b[39;00m \u001b[39m*\u001b[39m\n\u001b[0;32m    122\u001b[0m \u001b[39mfrom\u001b[39;00m \u001b[39m.\u001b[39;00m\u001b[39m_interface\u001b[39;00m \u001b[39mimport\u001b[39;00m \u001b[39m*\u001b[39m\n",
      "File \u001b[1;32mc:\\Python38\\lib\\site-packages\\scipy\\sparse\\linalg\\_isolve\\__init__.py:4\u001b[0m, in \u001b[0;36m<module>\u001b[1;34m\u001b[0m\n\u001b[0;32m      1\u001b[0m \u001b[39m\"\u001b[39m\u001b[39mIterative Solvers for Sparse Linear Systems\u001b[39m\u001b[39m\"\u001b[39m\n\u001b[0;32m      3\u001b[0m \u001b[39m#from info import __doc__\u001b[39;00m\n\u001b[1;32m----> 4\u001b[0m \u001b[39mfrom\u001b[39;00m \u001b[39m.\u001b[39;00m\u001b[39miterative\u001b[39;00m \u001b[39mimport\u001b[39;00m \u001b[39m*\u001b[39m\n\u001b[0;32m      5\u001b[0m \u001b[39mfrom\u001b[39;00m \u001b[39m.\u001b[39;00m\u001b[39mminres\u001b[39;00m \u001b[39mimport\u001b[39;00m minres\n\u001b[0;32m      6\u001b[0m \u001b[39mfrom\u001b[39;00m \u001b[39m.\u001b[39;00m\u001b[39mlgmres\u001b[39;00m \u001b[39mimport\u001b[39;00m lgmres\n",
      "File \u001b[1;32mc:\\Python38\\lib\\site-packages\\scipy\\sparse\\linalg\\_isolve\\iterative.py:150\u001b[0m, in \u001b[0;36m<module>\u001b[1;34m\u001b[0m\n\u001b[0;32m    124\u001b[0m         \u001b[39mreturn\u001b[39;00m fn\n\u001b[0;32m    125\u001b[0m     \u001b[39mreturn\u001b[39;00m combine\n\u001b[0;32m    128\u001b[0m \u001b[39m@set_docstring\u001b[39;49m(\u001b[39m'\u001b[39;49m\u001b[39mUse BIConjugate Gradient iteration to solve ``Ax = b``.\u001b[39;49m\u001b[39m'\u001b[39;49m,\n\u001b[0;32m    129\u001b[0m                \u001b[39m'\u001b[39;49m\u001b[39mThe real or complex N-by-N matrix of the linear system.\u001b[39;49m\u001b[39m\\n\u001b[39;49;00m\u001b[39m'\u001b[39;49m\n\u001b[0;32m    130\u001b[0m                \u001b[39m'\u001b[39;49m\u001b[39mAlternatively, ``A`` can be a linear operator which can\u001b[39;49m\u001b[39m\\n\u001b[39;49;00m\u001b[39m'\u001b[39;49m\n\u001b[0;32m    131\u001b[0m                \u001b[39m'\u001b[39;49m\u001b[39mproduce ``Ax`` and ``A^T x`` using, e.g.,\u001b[39;49m\u001b[39m\\n\u001b[39;49;00m\u001b[39m'\u001b[39;49m\n\u001b[0;32m    132\u001b[0m                \u001b[39m'\u001b[39;49m\u001b[39m``scipy.sparse.linalg.LinearOperator``.\u001b[39;49m\u001b[39m'\u001b[39;49m,\n\u001b[0;32m    133\u001b[0m                footer\u001b[39m=\u001b[39;49m\u001b[39m\"\"\"\u001b[39;49m\n\u001b[0;32m    134\u001b[0m \n\u001b[0;32m    135\u001b[0m \u001b[39m               Examples\u001b[39;49m\n\u001b[0;32m    136\u001b[0m \u001b[39m               --------\u001b[39;49m\n\u001b[0;32m    137\u001b[0m \u001b[39m               >>> from scipy.sparse import csc_matrix\u001b[39;49m\n\u001b[0;32m    138\u001b[0m \u001b[39m               >>> from scipy.sparse.linalg import bicg\u001b[39;49m\n\u001b[0;32m    139\u001b[0m \u001b[39m               >>> A = csc_matrix([[3, 2, 0], [1, -1, 0], [0, 5, 1]], dtype=float)\u001b[39;49m\n\u001b[0;32m    140\u001b[0m \u001b[39m               >>> b = np.array([2, 4, -1], dtype=float)\u001b[39;49m\n\u001b[0;32m    141\u001b[0m \u001b[39m               >>> x, exitCode = bicg(A, b)\u001b[39;49m\n\u001b[0;32m    142\u001b[0m \u001b[39m               >>> print(exitCode)            # 0 indicates successful convergence\u001b[39;49m\n\u001b[0;32m    143\u001b[0m \u001b[39m               0\u001b[39;49m\n\u001b[0;32m    144\u001b[0m \u001b[39m               >>> np.allclose(A.dot(x), b)\u001b[39;49m\n\u001b[0;32m    145\u001b[0m \u001b[39m               True\u001b[39;49m\n\u001b[0;32m    146\u001b[0m \n\u001b[0;32m    147\u001b[0m \u001b[39m               \u001b[39;49m\u001b[39m\"\"\"\u001b[39;49m\n\u001b[0;32m    148\u001b[0m                )\n\u001b[0;32m    149\u001b[0m \u001b[39m@non_reentrant\u001b[39;49m()\n\u001b[1;32m--> 150\u001b[0m \u001b[39mdef\u001b[39;49;00m \u001b[39mbicg\u001b[39;49m(A, b, x0\u001b[39m=\u001b[39;49m\u001b[39mNone\u001b[39;49;00m, tol\u001b[39m=\u001b[39;49m\u001b[39m1e-5\u001b[39;49m, maxiter\u001b[39m=\u001b[39;49m\u001b[39mNone\u001b[39;49;00m, M\u001b[39m=\u001b[39;49m\u001b[39mNone\u001b[39;49;00m, callback\u001b[39m=\u001b[39;49m\u001b[39mNone\u001b[39;49;00m, atol\u001b[39m=\u001b[39;49m\u001b[39mNone\u001b[39;49;00m):\n\u001b[0;32m    151\u001b[0m     A,M,x,b,postprocess \u001b[39m=\u001b[39;49m make_system(A, M, x0, b)\n\u001b[0;32m    153\u001b[0m     n \u001b[39m=\u001b[39;49m \u001b[39mlen\u001b[39;49m(b)\n",
      "File \u001b[1;32mc:\\Python38\\lib\\site-packages\\scipy\\_lib\\_threadsafety.py:57\u001b[0m, in \u001b[0;36mnon_reentrant.<locals>.decorator\u001b[1;34m(func)\u001b[0m\n\u001b[0;32m     55\u001b[0m     msg \u001b[39m=\u001b[39m \u001b[39m\"\u001b[39m\u001b[39m%s\u001b[39;00m\u001b[39m is not re-entrant\u001b[39m\u001b[39m\"\u001b[39m \u001b[39m%\u001b[39m func\u001b[39m.\u001b[39m\u001b[39m__name__\u001b[39m\n\u001b[0;32m     56\u001b[0m lock \u001b[39m=\u001b[39m ReentrancyLock(msg)\n\u001b[1;32m---> 57\u001b[0m \u001b[39mreturn\u001b[39;00m lock\u001b[39m.\u001b[39;49mdecorate(func)\n",
      "File \u001b[1;32mc:\\Python38\\lib\\site-packages\\scipy\\_lib\\_threadsafety.py:45\u001b[0m, in \u001b[0;36mReentrancyLock.decorate\u001b[1;34m(self, func)\u001b[0m\n\u001b[0;32m     43\u001b[0m     \u001b[39mwith\u001b[39;00m \u001b[39mself\u001b[39m:\n\u001b[0;32m     44\u001b[0m         \u001b[39mreturn\u001b[39;00m func(\u001b[39m*\u001b[39ma, \u001b[39m*\u001b[39m\u001b[39m*\u001b[39mkw)\n\u001b[1;32m---> 45\u001b[0m \u001b[39mreturn\u001b[39;00m scipy\u001b[39m.\u001b[39;49m_lib\u001b[39m.\u001b[39mdecorator\u001b[39m.\u001b[39mdecorate(func, caller)\n",
      "\u001b[1;31mAttributeError\u001b[0m: module 'scipy' has no attribute '_lib'"
     ]
    }
   ],
   "source": [
    "import cv2 # openCV 4.5.1\n",
    "import numpy as np\n",
    "import os\n",
    "import tensorflow as tf\n",
    "from tensorflow import keras\n",
    "import time \n",
    "\n",
    "from skimage.io import imread\n",
    "from skimage.transform import resize \n",
    "from PIL import Image, ImageFont, ImageDraw # add caption by using custom font\n",
    "from collections import deque\n",
    "# from shufflenet import ShuffleNet"
   ]
  },
  {
   "cell_type": "code",
   "execution_count": null,
   "id": "ec99a974",
   "metadata": {},
   "outputs": [],
   "source": [
    "base_model=keras.applications.mobilenet_v2.MobileNetV2(input_shape=(160,160, 3), include_top=False, classes=2)\n",
    "thecheckpoint = r\"C:\\Users\\User\\FYP\\CodenOutput\\projectrvd\\MobileNetV2\\Model_MobileNetV2_RNN_20221026-133134.h5\"\n",
    "model=keras.models.load_model(thecheckpoint)\n",
    "\n",
    "if \"MobileNetV2\" in thecheckpoint:\n",
    "    modelname = \"MobileNetV2\"\n",
    "elif \"MobileNet\" in thecheckpoint:\n",
    "    modelname = \"MobileNet\"\n",
    "elif \"EfficientNet\" in thecheckpoint:\n",
    "    modelname = \"EfficientNet\"\n",
    "elif \"ShuffleNet\" in thecheckpoint:\n",
    "    modelname = \"ShuffleNet\"\n",
    "elif \"DenseNet\" in thecheckpoint:\n",
    "    modelname = \"DenseNet\""
   ]
  },
  {
   "cell_type": "code",
   "execution_count": 3,
   "id": "24d01bc2",
   "metadata": {},
   "outputs": [],
   "source": [
    "input_video=\"vidinput/input (3).avi\"\n",
    "\n",
    "if \".avi\" in input_video:\n",
    "    extension = \".avi\"\n",
    "elif \".mp4\" in input_video:\n",
    "    extension = \".mp4\""
   ]
  },
  {
   "cell_type": "code",
   "execution_count": 4,
   "id": "cab97f94",
   "metadata": {},
   "outputs": [],
   "source": [
    "### VIDEO READER\n",
    "\n",
    "def video_reader(cv2, filename):\n",
    "    \"\"\"Load 1 video file. Next, read each frame image and resize as (fps, 160, 160, 3) shape and return frame Numpy array.\"\"\"\n",
    "    \n",
    "    frames=np.zeros((30, 160, 160, 3), dtype=np.float) #> (fps, img size, img size, RGB)\n",
    "    \n",
    "    i=0\n",
    "    print(frames.shape)\n",
    "    vid=cv2.VideoCapture(filename) # read frame img from video file.\n",
    "    \n",
    "    if vid.isOpened():\n",
    "        grabbed, frame=vid.read() \n",
    "    else:\n",
    "        grabbed=False\n",
    "    \n",
    "    frm=resize(frame,(160, 160, 3))\n",
    "    frm=np.expand_dims(frm, axis=0)\n",
    "    \n",
    "    if(np.max(frm)>1):\n",
    "        frm=frm/255.0 # Scaling\n",
    "    frames[i][:]=frm\n",
    "    i+=1\n",
    "    print('Reading Video')\n",
    "    \n",
    "    while i<30:\n",
    "        grabbed, frame=vid.read()\n",
    "        frm=resize(frame, (160, 160, 3)) \n",
    "        frm=np.expand_dims(frm, axis=0)\n",
    "        if(np.max(frm)>1):\n",
    "            frm=frm/255.0\n",
    "        frames[i][:]=frm\n",
    "        i+=1\n",
    "        \n",
    "    return frames"
   ]
  },
  {
   "cell_type": "code",
   "execution_count": 5,
   "id": "51f71033",
   "metadata": {},
   "outputs": [],
   "source": [
    "### PREDICTION OF IMAGE ARRAY\n",
    "\n",
    "def create_pred_imgarr(base_model, video_frm_ar):\n",
    "    \"\"\"Insert base_model(MobileNet) and result of video_reader() function.\n",
    "    This function extract features from each frame img by using base_model.\n",
    "    And reshape Numpy array to insert LSTM model : (1, 30, 25600)\"\"\"\n",
    "    video_frm_ar_dim=np.zeros((1, 30, 160, 160, 3), dtype=np.float)\n",
    "    video_frm_ar_dim[0][:][:]=video_frm_ar #> (1, 30, 160, 160, 3)\n",
    "     \n",
    "    # Extract features from each frame img by using base_model(MobileNet)\n",
    "    pred_imgarr=base_model.predict(video_frm_ar)\n",
    "    # Reshape features array : (1, fps, 25600)\n",
    "    pred_imgarr=pred_imgarr.reshape(1, pred_imgarr.shape[0], 25600)\n",
    "    \n",
    "    return pred_imgarr #> ex : (1, 30, 25600)"
   ]
  },
  {
   "cell_type": "code",
   "execution_count": 6,
   "id": "0e9b7020",
   "metadata": {},
   "outputs": [],
   "source": [
    "### PREDICT VIOLENCE\n",
    "\n",
    "def pred_fight(model, pred_imgarr, acuracy=0.9):\n",
    "    \"\"\"If accuracy>=input value(ex:0.9), return (Violence)'True'. else, return 'False'.\n",
    "    ::model:: trained LSTM model (We already load .h5 file in the above.)\n",
    "    ::pred_imgarr:: (1, 30, 25600) shaped Numpy array. Extracted features.\n",
    "    ::accuracy:: default value is 0.9\"\"\"\n",
    "\n",
    "    pred_test=model.predict(pred_imgarr) #> Violence(Fight) : [0,1]. Non-Violence(NonFight) : [1,0]\n",
    "    \n",
    "    if pred_test[0][1] >= acuracy:\n",
    "        return True, pred_test[0][1] #> True, Probability of Violence\n",
    "    \n",
    "    else:\n",
    "        return False, pred_test[0][1] #> False, Probability of Violence"
   ]
  },
  {
   "cell_type": "code",
   "execution_count": 7,
   "id": "653a37cb",
   "metadata": {},
   "outputs": [
    {
     "name": "stderr",
     "output_type": "stream",
     "text": [
      "C:\\Users\\User\\AppData\\Local\\Temp/ipykernel_8956/533712840.py:6: DeprecationWarning: `np.float` is a deprecated alias for the builtin `float`. To silence this warning, use `float` by itself. Doing this will not modify any behavior and is safe. If you specifically wanted the numpy scalar type, use `np.float64` here.\n",
      "Deprecated in NumPy 1.20; for more details and guidance: https://numpy.org/devdocs/release/1.20.0-notes.html#deprecations\n",
      "  frames=np.zeros((30, 160, 160, 3), dtype=np.float) #> (fps, img size, img size, RGB)\n"
     ]
    },
    {
     "name": "stdout",
     "output_type": "stream",
     "text": [
      "(30, 160, 160, 3)\n",
      "Reading Video\n"
     ]
    },
    {
     "name": "stderr",
     "output_type": "stream",
     "text": [
      "C:\\Users\\User\\AppData\\Local\\Temp/ipykernel_8956/3932966193.py:7: DeprecationWarning: `np.float` is a deprecated alias for the builtin `float`. To silence this warning, use `float` by itself. Doing this will not modify any behavior and is safe. If you specifically wanted the numpy scalar type, use `np.float64` here.\n",
      "Deprecated in NumPy 1.20; for more details and guidance: https://numpy.org/devdocs/release/1.20.0-notes.html#deprecations\n",
      "  video_frm_ar_dim=np.zeros((1, 30, 160, 160, 3), dtype=np.float)\n"
     ]
    },
    {
     "data": {
      "text/plain": [
       "(True, 0.99750465)"
      ]
     },
     "execution_count": 7,
     "metadata": {},
     "output_type": "execute_result"
    }
   ],
   "source": [
    "### CHECK ABOVE FUNCTION\n",
    "video_file = input_video\n",
    "video_from_ar = video_reader(cv2, video_file)\n",
    "pred_imgarr = create_pred_imgarr(base_model, video_from_ar)\n",
    "pred_imgarr.shape\n",
    "\n",
    "preds = pred_fight(model, pred_imgarr, 0.9)\n",
    "preds"
   ]
  },
  {
   "cell_type": "code",
   "execution_count": 8,
   "id": "c791968b",
   "metadata": {},
   "outputs": [],
   "source": [
    "### DETECT VIOLENCE ALL IN ONE FUNCTION\n",
    "\n",
    "def detect_violence(video):\n",
    "    \"\"\" It contains video_reader(), create_pred_imgarr(), pred_fight() function as all-in-one.\n",
    "    ::video:: video file (.mp4, .avi, ...)\n",
    "    \n",
    "    video_reader() : Read each frame img by using openCV. Resize Numpy array\n",
    "    create_pred_imgarr() : Extract features from frame img array by using base model(MobileNet)\n",
    "    pred_fight() : Decide Violence True or False by using trained LSTM model\"\"\"\n",
    "    \n",
    "    video_frm_ar=video_reader(cv2, video) \n",
    "    pred_imgarr=create_pred_imgarr(base_model, video_frm_ar)\n",
    "    \n",
    "    time1=int(round(time.time()*1000))\n",
    "\n",
    "    f, precent=pred_fight(model, pred_imgarr, acuracy=0.65)\n",
    "    \n",
    "    time2=int(round(time.time()*1000))\n",
    "    \n",
    "    result={'Violence': f, #> True(Violence), False(Non-Violence)\n",
    "            'Violence Estimation': str(precent), # Probability of Violence\n",
    "            'Processing Time' : str(time2-time1)} \n",
    "    \n",
    "    return result"
   ]
  },
  {
   "cell_type": "code",
   "execution_count": 9,
   "id": "4829baab",
   "metadata": {},
   "outputs": [
    {
     "name": "stderr",
     "output_type": "stream",
     "text": [
      "C:\\Users\\User\\AppData\\Local\\Temp/ipykernel_8956/533712840.py:6: DeprecationWarning: `np.float` is a deprecated alias for the builtin `float`. To silence this warning, use `float` by itself. Doing this will not modify any behavior and is safe. If you specifically wanted the numpy scalar type, use `np.float64` here.\n",
      "Deprecated in NumPy 1.20; for more details and guidance: https://numpy.org/devdocs/release/1.20.0-notes.html#deprecations\n",
      "  frames=np.zeros((30, 160, 160, 3), dtype=np.float) #> (fps, img size, img size, RGB)\n"
     ]
    },
    {
     "name": "stdout",
     "output_type": "stream",
     "text": [
      "(30, 160, 160, 3)\n",
      "Reading Video\n"
     ]
    },
    {
     "name": "stderr",
     "output_type": "stream",
     "text": [
      "C:\\Users\\User\\AppData\\Local\\Temp/ipykernel_8956/3932966193.py:7: DeprecationWarning: `np.float` is a deprecated alias for the builtin `float`. To silence this warning, use `float` by itself. Doing this will not modify any behavior and is safe. If you specifically wanted the numpy scalar type, use `np.float64` here.\n",
      "Deprecated in NumPy 1.20; for more details and guidance: https://numpy.org/devdocs/release/1.20.0-notes.html#deprecations\n",
      "  video_frm_ar_dim=np.zeros((1, 30, 160, 160, 3), dtype=np.float)\n"
     ]
    },
    {
     "data": {
      "text/plain": [
       "{'Violence': True,\n",
       " 'Violence Estimation': '0.99750465',\n",
       " 'Processing Time': '133'}"
      ]
     },
     "execution_count": 9,
     "metadata": {},
     "output_type": "execute_result"
    }
   ],
   "source": [
    "video_file=input_video\n",
    "detect_violence(video_file)"
   ]
  },
  {
   "cell_type": "code",
   "execution_count": 10,
   "id": "c15f99de",
   "metadata": {},
   "outputs": [
    {
     "name": "stdout",
     "output_type": "stream",
     "text": [
      "vidoutput/input (3)_DenseNet_20220825_170416_output.avi\n"
     ]
    }
   ],
   "source": [
    "### ADD CAPTION & SAVE VIDEO OUTPUT FILE\n",
    "\n",
    "input_path = input_video\n",
    "input_path = input_path.replace(\".mp4\",\"\")\n",
    "input_path = input_path.replace(\".avi\",\"\")\n",
    "input_path = input_path.replace(\"vidinput/\",\"\")\n",
    "\n",
    "output_path = f'vidoutput/{input_path}_{modelname}_{time.strftime(\"%Y%m%d_%H%M%S\")}_output{extension}'\n",
    "print(output_path)"
   ]
  },
  {
   "cell_type": "code",
   "execution_count": 11,
   "id": "e8eee0d4",
   "metadata": {},
   "outputs": [
    {
     "name": "stdout",
     "output_type": "stream",
     "text": [
      "fps : 30.0\n"
     ]
    },
    {
     "name": "stderr",
     "output_type": "stream",
     "text": [
      "C:\\Users\\User\\AppData\\Local\\Temp/ipykernel_8956/287044024.py:11: DeprecationWarning: `np.float` is a deprecated alias for the builtin `float`. To silence this warning, use `float` by itself. Doing this will not modify any behavior and is safe. If you specifically wanted the numpy scalar type, use `np.float64` here.\n",
      "Deprecated in NumPy 1.20; for more details and guidance: https://numpy.org/devdocs/release/1.20.0-notes.html#deprecations\n",
      "  video_frm_ar=np.zeros((1, int(fps), 160, 160, 3), dtype=np.float) #frames\n"
     ]
    },
    {
     "name": "stdout",
     "output_type": "stream",
     "text": [
      "preds:[[0.00250655 0.9974935 ]]\n",
      "Results = [[nan nan]]\n",
      "Maximum Probability : nan\n",
      "\n"
     ]
    },
    {
     "name": "stderr",
     "output_type": "stream",
     "text": [
      "C:\\Users\\User\\AppData\\Local\\Temp/ipykernel_8956/287044024.py:55: RuntimeWarning: Mean of empty slice.\n",
      "  results=np.array(Q)[:i].mean(axis=0)\n",
      "C:\\Users\\User\\anaconda3\\lib\\site-packages\\numpy\\core\\_methods.py:180: RuntimeWarning: invalid value encountered in true_divide\n",
      "  ret = um.true_divide(\n"
     ]
    },
    {
     "name": "stdout",
     "output_type": "stream",
     "text": [
      "preds:[[0.38167238 0.6183276 ]]\n",
      "Results = [[0.00250655 0.9974935 ]]\n",
      "Maximum Probability : 0.9974935054779053\n",
      "\n",
      "preds:[[0.59665024 0.40334967]]\n",
      "Results = [[0.19208947 0.80791056]]\n",
      "Maximum Probability : 0.8079105615615845\n",
      "\n",
      "preds:[[0.9682635 0.0317365]]\n",
      "Results = [[0.32694307 0.6730569 ]]\n",
      "Maximum Probability : 0.6730569005012512\n",
      "\n",
      "preds:[[0.9926807 0.0073192]]\n",
      "Results = [[0.48727316 0.51272684]]\n",
      "Maximum Probability : 0.5127268433570862\n",
      "\n",
      "There is no frame. Streaming ends.\n",
      "Video recording ends. Release Memory.\n"
     ]
    }
   ],
   "source": [
    "vid=cv2.VideoCapture(input_video)\n",
    "fps=vid.get(cv2.CAP_PROP_FPS) # recognize frames per secone(fps) of input_path video file.\n",
    "# fps = 30\n",
    "print(f'fps : {fps}') # print fps.\n",
    "\n",
    "writer=None\n",
    "(W, H)=(None, None)\n",
    "i=0 # number of seconds in video = The number of times that how many operated while loop .\n",
    "Q=deque(maxlen=128) \n",
    "\n",
    "video_frm_ar=np.zeros((1, int(fps), 160, 160, 3), dtype=np.float) #frames\n",
    "frame_counter=0 # frame number in 1 second. 1~30\n",
    "frame_list=[] \n",
    "preds=None\n",
    "maxprob=None\n",
    "\n",
    "#. While loop : Until the end of input video, it read frame, extract features, predict violence True or False.\n",
    "# ----- Reshape & Save frame img as (30, 160, 160, 3) Numpy array  -----\n",
    "while True: \n",
    "    frame_counter+=1\n",
    "    grabbed, frm=vid.read() # read each frame img. grabbed=True, frm=frm img. ex: (240, 320, 3)\n",
    "    \n",
    "    if not grabbed:\n",
    "        print('There is no frame. Streaming ends.')\n",
    "        break\n",
    "\n",
    "    if W is None or H is None: # W: width, H: height of frame img\n",
    "        (H, W)=frm.shape[:2]\n",
    "            \n",
    "    output=frm.copy() # It is necessary for streaming captioned output video, and to save that.\n",
    "    \n",
    "    frame=resize(frm, (160, 160, 3)) #> Resize frame img array to (160, 160, 3)\n",
    "    frame_list.append(frame) # Append each frame img Numpy array : element is (160, 160, 3) Numpy array.\n",
    "        \n",
    "    if frame_counter>=fps: # fps=30 et al\n",
    "        #. ----- we'll predict violence True or False every 30 frame -----\n",
    "        #. ----- Insert (1, 30, 160, 160, 3) Numpy array to LSTM model ---\n",
    "        #. ----- We'll renew predict result caption on output video every 1 second. -----\n",
    "        # 30-element-appended list -> Transform to Numpy array -> Predict -> Initialize list (repeat)\n",
    "        frame_ar=np.array(frame_list, dtype=np.float16) #> (30, 160, 160, 3)\n",
    "        frame_list=[] # Initialize frame list when frame_counter is same or exceed 30, after transforming to Numpy array.\n",
    "            \n",
    "        if(np.max(frame_ar)>1): \n",
    "            frame_ar=frame_ar/255.0 # Scaling RGB value in Numpy array\n",
    "        \n",
    "        pred_imgarr=base_model.predict(frame_ar) #> Extract features from each frame img by using MobileNet. (30, 5, 5, 1024)\n",
    "        pred_imgarr_dim=pred_imgarr.reshape(1, pred_imgarr.shape[0], 25600)#> (1, 30, 25600)\n",
    "\n",
    "        preds=model.predict(pred_imgarr_dim) #> (True, 0.99) : (Violence True or False, Probability of Violence)\n",
    "        print(f'preds:{preds}')\n",
    "        Q.append(preds)\n",
    "    \n",
    "        # Predict Result : Average of Violence probability in last 5 second\n",
    "        if i<5:\n",
    "            results=np.array(Q)[:i].mean(axis=0)\n",
    "        else:\n",
    "            results=np.array(Q)[(i-5):i].mean(axis=0)\n",
    "        \n",
    "        print(f'Results = {results}') #> ex : (0.6, 0.650)\n",
    "            \n",
    "        maxprob=np.max(results) #> Select Maximum Probability\n",
    "        print(f'Maximum Probability : {maxprob}')\n",
    "        print('')\n",
    "            \n",
    "        rest=1-maxprob # Probability of Non-Violence\n",
    "        diff=maxprob-rest # Difference between Probability of Violence and Non-Violence's\n",
    "        th=100\n",
    "            \n",
    "        if diff>0.80: \n",
    "            th=diff # ?? What is supporting basis?\n",
    "        \n",
    "        frame_counter=0 #> Initialize frame_counter to 0\n",
    "        i+=1 #> 1 second elapsed\n",
    "        \n",
    "        # When frame_counter>=30, Initialize frame_counter to 0, and repeat above while loop.\n",
    "                \n",
    "    # ----- Setting caption option of output video -----\n",
    "    # Renewed caption is added every 30 frames(if fps=30, it means 1 second.)\n",
    "    font1=ImageFont.truetype('fonts/Raleway-ExtraBold.ttf', int(0.05*W)) # font option\n",
    "    font2=ImageFont.truetype('fonts/Raleway-ExtraBold.ttf', int(0.1*W)) #font option\n",
    "    \n",
    "    if preds is not None and maxprob is not None:\n",
    "        if (preds[0][1])<th : #> if violence probability < th, Violence=False (Normal, Green Caption)\n",
    "            text1_1='Normal'\n",
    "            text1_2='{:.2f}%'.format(100-(maxprob*100))\n",
    "            img_pil=Image.fromarray(output)\n",
    "            draw=ImageDraw.Draw(img_pil)\n",
    "            draw.text((int(0.025*W), int(0.025*H)), text1_1, font=font1, fill=(0, 255, 0, 0))\n",
    "            draw.text((int(0.025*W), int(0.095*H)), text1_2, font=font2, fill=(0, 255, 0, 0))\n",
    "            output=np.array(img_pil)\n",
    "                \n",
    "        else : #> if violence probability > th, Violence=True (Violence Alert!, Red Caption)\n",
    "            text2_1='Violence Alert!'\n",
    "            text2_2='{:.2f}%'.format(maxprob*100)\n",
    "            img_pil=Image.fromarray(output)\n",
    "            draw=ImageDraw.Draw(img_pil)\n",
    "            draw.text((int(0.025*W), int(0.025*H)), text2_1, font=font1, fill=(0, 0, 255, 0))\n",
    "            draw.text((int(0.025*W), int(0.095*H)), text2_2, font=font2, fill=(0, 0, 255, 0))\n",
    "            output=np.array(img_pil)\n",
    "        \n",
    "    # Save captioned video file by using 'writer'\n",
    "    if writer is None:\n",
    "        fourcc=cv2.VideoWriter_fourcc(*'DIVX')\n",
    "        writer=cv2.VideoWriter(output_path, fourcc, 30, (W, H), True)\n",
    "            \n",
    "    cv2.imshow('This is output', output) # View output in new Window.\n",
    "    writer.write(output) # Save output in output_path\n",
    "        \n",
    "    key=cv2.waitKey(round(1000/fps)) # time gap of frame and next frame\n",
    "    if key==27: # If you press ESC key, While loop will be breaked and output file will be saved.\n",
    "        print('ESC is pressed. Video recording ends.')\n",
    "        break\n",
    "    \n",
    "print('Video recording ends. Release Memory.') # Output file will be saved.\n",
    "writer.release()\n",
    "vid.release()\n",
    "cv2.destroyAllWindows()"
   ]
  },
  {
   "cell_type": "code",
   "execution_count": null,
   "id": "a5ee46ce",
   "metadata": {},
   "outputs": [],
   "source": []
  }
 ],
 "metadata": {
  "kernelspec": {
   "display_name": "Python 3.8.6 64-bit",
   "language": "python",
   "name": "python3"
  },
  "language_info": {
   "codemirror_mode": {
    "name": "ipython",
    "version": 3
   },
   "file_extension": ".py",
   "mimetype": "text/x-python",
   "name": "python",
   "nbconvert_exporter": "python",
   "pygments_lexer": "ipython3",
   "version": "3.8.6"
  },
  "vscode": {
   "interpreter": {
    "hash": "9650cb4e16cdd4a8e8e2d128bf38d875813998db22a3c986335f89e0cb4d7bb2"
   }
  }
 },
 "nbformat": 4,
 "nbformat_minor": 5
}
