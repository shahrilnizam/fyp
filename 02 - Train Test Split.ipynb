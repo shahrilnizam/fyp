{
 "cells": [
  {
   "cell_type": "code",
   "execution_count": 1,
   "id": "93fe0cb1",
   "metadata": {},
   "outputs": [],
   "source": [
    "import numpy as np\n",
    "import pickle\n",
    "from random import shuffle"
   ]
  },
  {
   "cell_type": "code",
   "execution_count": 2,
   "id": "cccfe74d",
   "metadata": {},
   "outputs": [
    {
     "name": "stdout",
     "output_type": "stream",
     "text": [
      "2000\n",
      "2000\n",
      "2000\n",
      "2000\n"
     ]
    }
   ],
   "source": [
    "### LOAD ALL PICKLE DATAS AND LABELS\n",
    "\n",
    "with open(r\"H:\\FYP\\final\\ViolenceData.pickle\", \"rb\") as fr:\n",
    "    data_Fight = pickle.load(fr)\n",
    "print(len(data_Fight))\n",
    "\n",
    "with open(r\"H:\\FYP\\final\\NonViolenceData.pickle\", \"rb\") as fr:\n",
    "    data_NonFight = pickle.load(fr)\n",
    "print(len(data_NonFight))\n",
    "\n",
    "with open(r\"H:\\FYP\\final\\ViolenceLabel.pickle\", \"rb\") as fr:\n",
    "    ViolenceLabel = pickle.load(fr)\n",
    "print(len(ViolenceLabel))\n",
    "\n",
    "with open(r\"H:\\FYP\\final\\NonViolenceLabel.pickle\", \"rb\") as fr:\n",
    "    NonViolenceLabel = pickle.load(fr)\n",
    "print(len(NonViolenceLabel))"
   ]
  },
  {
   "cell_type": "code",
   "execution_count": 3,
   "id": "b85378b8",
   "metadata": {},
   "outputs": [
    {
     "name": "stdout",
     "output_type": "stream",
     "text": [
      "4000, 4000\n"
     ]
    }
   ],
   "source": [
    "### MERGE DATA & RANDOM SHUFFLE\n",
    "\n",
    "label_total = ViolenceLabel + NonViolenceLabel\n",
    "data_total = data_Fight + data_NonFight\n",
    "print(f\"{len(data_total)}, {len(label_total)}\")"
   ]
  },
  {
   "cell_type": "code",
   "execution_count": 4,
   "id": "a780e9fb",
   "metadata": {},
   "outputs": [],
   "source": [
    "### SHUFFLE MERGED DATASET\n",
    "np.random.seed(42)\n",
    "c = list(zip(data_total, label_total))\n",
    "shuffle(c)\n",
    "data_total, label_total = zip(*c)"
   ]
  },
  {
   "cell_type": "code",
   "execution_count": 5,
   "id": "0a34090d",
   "metadata": {},
   "outputs": [
    {
     "name": "stdout",
     "output_type": "stream",
     "text": [
      "PROCESS DONE!\n"
     ]
    }
   ],
   "source": [
    "### SAVE THE SHUFFLED DATASET AS PICKLE FILE\n",
    "\n",
    "with open(r\"H:\\FYP\\final\\ShuffledData.pickle\", \"wb\") as fw:\n",
    "    pickle.dump(data_total, fw, protocol = pickle.HIGHEST_PROTOCOL)\n",
    "\n",
    "with open(r\"H:\\FYP\\final\\ShuffledLabel.pickle\", \"wb\") as fw:\n",
    "    pickle.dump(label_total, fw)\n",
    "\n",
    "print(\"PROCESS DONE!\")"
   ]
  },
  {
   "cell_type": "code",
   "execution_count": 2,
   "id": "22983273",
   "metadata": {},
   "outputs": [
    {
     "name": "stdout",
     "output_type": "stream",
     "text": [
      "3200, 3200, 800, 800\n"
     ]
    }
   ],
   "source": [
    "### SPLITTING THE TRAINING AND TESTING DATASET IN 8:2 RATIO\n",
    "with open(r\"H:\\FYP\\final\\ShuffledData.pickle\", \"rb\") as fr:\n",
    "    data_total = pickle.load(fr)\n",
    "\n",
    "with open(r\"H:\\FYP\\final\\ShuffledLabel.pickle\", \"rb\") as fr:\n",
    "    label_total = pickle.load(fr)\n",
    "\n",
    "### SPLITTING THE TRAINING AND TESTING DATASET IN 8:2 RATIO\n",
    "training_set = int(len(data_total)*0.8)\n",
    "test_set = int(len(data_total)*0.2)\n",
    "\n",
    "data_training = data_total[0:training_set]\n",
    "data_test = data_total[training_set:]\n",
    "label_training = label_total[0:training_set]\n",
    "label_test = label_total[training_set:]\n",
    "\n",
    "print(f'{len(data_training)},{len(label_training)},{len(data_test)},{len(label_test)}')"
   ]
  },
  {
   "cell_type": "code",
   "execution_count": 3,
   "id": "c76b0276",
   "metadata": {},
   "outputs": [
    {
     "data": {
      "text/plain": [
       "((30, 160, 160, 3), (2,))"
      ]
     },
     "execution_count": 3,
     "metadata": {},
     "output_type": "execute_result"
    }
   ],
   "source": [
    "data_training[0].shape, label_training[0].shape"
   ]
  },
  {
   "cell_type": "code",
   "execution_count": 4,
   "id": "6c7431a5",
   "metadata": {},
   "outputs": [
    {
     "data": {
      "text/plain": [
       "array([[0.99411765, 0.99068627, 0.99019608, ..., 0.35637255, 0.28431373,\n",
       "        0.25098039],\n",
       "       [0.99117647, 0.99068627, 0.94166667, ..., 0.35637255, 0.29166667,\n",
       "        0.25833333],\n",
       "       [0.99166667, 0.93921569, 0.59362745, ..., 0.36421569, 0.33235294,\n",
       "        0.31176471],\n",
       "       ...,\n",
       "       [0.13970588, 0.1872549 , 0.27794118, ..., 0.20686275, 0.14019608,\n",
       "        0.08039216],\n",
       "       [0.14264706, 0.17696078, 0.27009804, ..., 0.18088235, 0.10784314,\n",
       "        0.04803922],\n",
       "       [0.13823529, 0.17107843, 0.27745098, ..., 0.16470588, 0.09166667,\n",
       "        0.03627451]])"
      ]
     },
     "execution_count": 4,
     "metadata": {},
     "output_type": "execute_result"
    }
   ],
   "source": [
    "data_training[0][0, :, :, 0]"
   ]
  },
  {
   "cell_type": "code",
   "execution_count": 5,
   "id": "cb4fa45d",
   "metadata": {},
   "outputs": [],
   "source": [
    "### SAVE TRAINING SET AND TEST SET AS PICKLE FILE\n",
    "with open(r\"H:\\FYP\\final\\splitted dataset\\TrainData.pickle\", \"wb\") as fw:\n",
    "    pickle.dump(data_training, fw, protocol = pickle.HIGHEST_PROTOCOL)\n",
    "\n",
    "with open(r\"H:\\FYP\\final\\splitted dataset\\TrainLabel.pickle\", \"wb\") as fw:\n",
    "    pickle.dump(label_training, fw)\n",
    "\n",
    "with open(r\"H:\\FYP\\final\\splitted dataset\\TestData.pickle\", \"wb\") as fw:\n",
    "    pickle.dump(data_test, fw, protocol = pickle.HIGHEST_PROTOCOL)\n",
    "\n",
    "with open(r\"H:\\FYP\\final\\splitted dataset\\TestLabel.pickle\", \"wb\") as fw:\n",
    "    pickle.dump(label_test, fw)"
   ]
  },
  {
   "cell_type": "code",
   "execution_count": 7,
   "id": "74525dac",
   "metadata": {},
   "outputs": [
    {
     "data": {
      "text/plain": [
       "((3200, 30, 160, 160, 3), (3200, 2))"
      ]
     },
     "execution_count": 7,
     "metadata": {},
     "output_type": "execute_result"
    }
   ],
   "source": [
    "### TRANSFORMING ALL TRAINING DATASETS AS NUMPY ARRAYS\n",
    "data_training_ar = np.array(data_training, dtype=np.float16)\n",
    "np.save(r\"H:\\FYP\\final\\splitted dataset\\TrainingData.npy\", data_training_ar)\n",
    "\n",
    "label_training_ar = np.array(label_training)\n",
    "np.save(r\"H:\\FYP\\final\\splitted dataset\\TrainingLabel.npy\", label_training_ar)\n",
    "\n",
    "data_training_ar.shape, label_training_ar.shape"
   ]
  },
  {
   "cell_type": "code",
   "execution_count": 8,
   "id": "acbc8840",
   "metadata": {},
   "outputs": [
    {
     "data": {
      "text/plain": [
       "((800, 30, 160, 160, 3), (800, 2))"
      ]
     },
     "execution_count": 8,
     "metadata": {},
     "output_type": "execute_result"
    }
   ],
   "source": [
    "### TRANSFORMING ALL TESTING DATASETS AS NUMPY ARRAYS\n",
    "data_testing_ar = np.array(data_test, dtype=np.float16)\n",
    "np.save(r\"H:\\FYP\\final\\splitted dataset\\TestingData.npy\", data_testing_ar)\n",
    "\n",
    "label_testing_ar = np.array(label_test)\n",
    "np.save(r\"H:\\FYP\\final\\splitted dataset\\TestingLabel.npy\", label_testing_ar)\n",
    "\n",
    "data_testing_ar.shape, label_testing_ar.shape"
   ]
  },
  {
   "cell_type": "code",
   "execution_count": 9,
   "id": "f34448a8",
   "metadata": {},
   "outputs": [
    {
     "name": "stdout",
     "output_type": "stream",
     "text": [
      "Done!\n"
     ]
    }
   ],
   "source": [
    "print(\"Done!\")"
   ]
  }
 ],
 "metadata": {
  "kernelspec": {
   "display_name": "Python 3.8.6 64-bit",
   "language": "python",
   "name": "python3"
  },
  "language_info": {
   "codemirror_mode": {
    "name": "ipython",
    "version": 3
   },
   "file_extension": ".py",
   "mimetype": "text/x-python",
   "name": "python",
   "nbconvert_exporter": "python",
   "pygments_lexer": "ipython3",
   "version": "3.8.6"
  },
  "vscode": {
   "interpreter": {
    "hash": "9650cb4e16cdd4a8e8e2d128bf38d875813998db22a3c986335f89e0cb4d7bb2"
   }
  }
 },
 "nbformat": 4,
 "nbformat_minor": 5
}
