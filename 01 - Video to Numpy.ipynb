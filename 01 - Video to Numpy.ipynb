{
 "cells": [
  {
   "cell_type": "code",
   "execution_count": 8,
   "id": "c9ec697a",
   "metadata": {},
   "outputs": [],
   "source": [
    "import os\n",
    "import pickle \n",
    "import numpy as np\n",
    "from tqdm import tqdm\n",
    "import cv2 \n",
    "from skimage.transform import resize"
   ]
  },
  {
   "cell_type": "code",
   "execution_count": 9,
   "id": "fe6bb0a4",
   "metadata": {},
   "outputs": [],
   "source": [
    "### TRANSFORM VIDEO FILES TO NUMPY ARRAY\n",
    "\n",
    "def Save2Npy(file_dir, save_dir):\n",
    "\n",
    "    if not os.path.exists(save_dir): \n",
    "        os.makedirs(save_dir)\n",
    "    \n",
    "    file_list=os.listdir(file_dir) \n",
    "    for file in tqdm(file_list):\n",
    "        frames=np.zeros((30, 160, 160, 3), dtype=np.dtype(\"float\"))\n",
    "        i=0\n",
    "        vid=cv2.VideoCapture(os.path.join(file_dir, file)) \n",
    "        if vid.isOpened():\n",
    "            grabbed, frame=vid.read()\n",
    "        else:\n",
    "            grabbed=False \n",
    "        frm=resize(frame, (160, 160, 3))\n",
    "        frm=np.expand_dims(frm, axis=0)\n",
    "        if(np.max(frm)>1):\n",
    "            frm=frm/255.0\n",
    "        frames[i][:]=frm\n",
    "        i+=1\n",
    "        while i<30:\n",
    "            grabbed, frame=vid.read()\n",
    "            frm=resize(frame, (160, 160, 3))\n",
    "            frm=np.expand_dims(frm, axis=0)\n",
    "            if(np.max(frm)>1):\n",
    "                frm=frm/255.0\n",
    "            frames[i][:] = frm\n",
    "            i+=1\n",
    "        video_name=file.split('.')[0]\n",
    "        video_path=os.path.join(file_dir, file)\n",
    "        save_path=os.path.join(save_dir, video_name+'.npy')\n",
    "        np.save(save_path, frames)"
   ]
  },
  {
   "cell_type": "code",
   "execution_count": 10,
   "id": "0ed1c73a",
   "metadata": {},
   "outputs": [
    {
     "name": "stderr",
     "output_type": "stream",
     "text": [
      "100%|██████████████████████████████████████████████████████████████████████████████| 2000/2000 [43:41<00:00,  1.31s/it]\n"
     ]
    }
   ],
   "source": [
    "### DEFINE INPUT VIDEO PATH (NON VIOLENCE)\n",
    "file_dir=r\"H:\\FYP\\datavid\\nonviolent\"\n",
    "save_dir=r\"H:\\FYP\\final\\1_nonviolent\"\n",
    "Save2Npy(file_dir=file_dir, save_dir=save_dir)"
   ]
  },
  {
   "cell_type": "code",
   "execution_count": 11,
   "id": "e22bbb7e",
   "metadata": {},
   "outputs": [
    {
     "name": "stderr",
     "output_type": "stream",
     "text": [
      "100%|████████████████████████████████████████████████████████████████████████████| 2000/2000 [1:02:18<00:00,  1.87s/it]\n"
     ]
    }
   ],
   "source": [
    "### DEFINE INPUT VIDEO PATH (VIOLENCE)\n",
    "file_dir=r\"H:\\FYP\\datavid\\violent\"\n",
    "save_dir=r\"H:\\FYP\\final\\1_violent\"\n",
    "Save2Npy(file_dir=file_dir, save_dir=save_dir)"
   ]
  },
  {
   "cell_type": "code",
   "execution_count": 12,
   "id": "ed3b8a84",
   "metadata": {},
   "outputs": [
    {
     "name": "stderr",
     "output_type": "stream",
     "text": [
      "100%|██████████████████████████████████████████████████████████████████████████████| 2000/2000 [08:25<00:00,  3.96it/s]\n"
     ]
    },
    {
     "name": "stdout",
     "output_type": "stream",
     "text": [
      "2000\n",
      "Done!\n"
     ]
    }
   ],
   "source": [
    "### MAKING LIST OF NUMPY ARRAYS FOR ALL VIDEO NPY ARRAYS\n",
    "Fight_dir=r\"H:\\FYP\\final\\1_violent\"\n",
    "V_list_npy = os.listdir(Fight_dir)\n",
    "\n",
    "data_Fight = []\n",
    "for file in tqdm(V_list_npy):\n",
    "    file_path = os.path.join(Fight_dir, file)\n",
    "    x=np.load(file_path)\n",
    "    data_Fight.append(x)\n",
    "    \n",
    "\n",
    "with open(r\"H:\\FYP\\final\\ViolenceData.pickle\",\"wb\") as fwv:\n",
    "    pickle.dump(data_Fight, fwv, protocol=pickle.HIGHEST_PROTOCOL)\n",
    "print(len(data_Fight))\n",
    "print(\"Done!\")"
   ]
  },
  {
   "cell_type": "code",
   "execution_count": 13,
   "id": "cb99908e",
   "metadata": {},
   "outputs": [
    {
     "name": "stderr",
     "output_type": "stream",
     "text": [
      "100%|██████████████████████████████████████████████████████████████████████████████| 2000/2000 [12:10<00:00,  2.74it/s]\n"
     ]
    },
    {
     "name": "stdout",
     "output_type": "stream",
     "text": [
      "2000\n",
      "Done!\n"
     ]
    }
   ],
   "source": [
    "NonFight_dir=r\"H:\\FYP\\final\\1_nonviolent\"\n",
    "NV_list_npy = os.listdir(NonFight_dir)\n",
    "\n",
    "data_NonFight=[]\n",
    "for file in tqdm(NV_list_npy):\n",
    "    file_path2=os.path.join(NonFight_dir, file)\n",
    "    y=np.load(file_path2)\n",
    "    data_NonFight.append(y)\n",
    "print(len(data_NonFight))\n",
    "\n",
    "with open(r\"H:\\FYP\\final\\NonViolenceData.pickle\",\"wb\") as fwnv:\n",
    "    pickle.dump(data_NonFight, fwnv, protocol=pickle.HIGHEST_PROTOCOL)\n",
    "print(\"Done!\")"
   ]
  },
  {
   "cell_type": "code",
   "execution_count": 14,
   "id": "16c5304b",
   "metadata": {},
   "outputs": [
    {
     "data": {
      "text/plain": [
       "(1000, 1000)"
      ]
     },
     "execution_count": 14,
     "metadata": {},
     "output_type": "execute_result"
    }
   ],
   "source": [
    "### CREATE LABEL LIST\n",
    "label_Fight_per_video=np.array([0,1])\n",
    "label_Fight=[label_Fight_per_video]*1000\n",
    "\n",
    "label_NonFight_per_video=np.array([1,0])\n",
    "label_NonFight=[label_NonFight_per_video]*1000\n",
    "\n",
    "len(label_Fight), len(label_NonFight)"
   ]
  },
  {
   "cell_type": "code",
   "execution_count": 15,
   "id": "38694a90",
   "metadata": {},
   "outputs": [],
   "source": [
    "with open(r\"H:\\FYP\\final\\ViolenceLabel.pickle\",\"wb\") as fw:\n",
    "    pickle.dump(label_Fight, fw)\n",
    "\n",
    "with open(r\"H:\\FYP\\final\\NonViolenceLabel.pickle\",\"wb\") as fw:\n",
    "    pickle.dump(label_NonFight, fw)\n",
    "\n",
    "    "
   ]
  }
 ],
 "metadata": {
  "kernelspec": {
   "display_name": "Python 3 (ipykernel)",
   "language": "python",
   "name": "python3"
  },
  "language_info": {
   "codemirror_mode": {
    "name": "ipython",
    "version": 3
   },
   "file_extension": ".py",
   "mimetype": "text/x-python",
   "name": "python",
   "nbconvert_exporter": "python",
   "pygments_lexer": "ipython3",
   "version": "3.9.7"
  },
  "vscode": {
   "interpreter": {
    "hash": "f08154012ddadd8e950e6e9e035c7a7b32c136e7647e9b7c77e02eb723a8bedb"
   }
  }
 },
 "nbformat": 4,
 "nbformat_minor": 5
}
