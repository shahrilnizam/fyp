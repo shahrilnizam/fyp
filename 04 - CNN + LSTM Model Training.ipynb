{
 "cells": [
  {
   "cell_type": "code",
   "execution_count": 9,
   "id": "dd28e256",
   "metadata": {},
   "outputs": [],
   "source": [
    "import numpy as np \n",
    "import pandas as pd\n",
    "import tensorflow as tf\n",
    "import matplotlib.pyplot as plt\n",
    "\n",
    "import os, time, keras"
   ]
  },
  {
   "cell_type": "code",
   "execution_count": 4,
   "id": "43068107",
   "metadata": {},
   "outputs": [],
   "source": [
    "### GLOBALS\n",
    "\n",
    "X_train_reshaped_path = r\"H:\\FYP\\final\\Training_Extracted_MobileNet.npy\"\n",
    "X_test_reshaped_path = r\"H:\\FYP\\final\\Testing_Extracted_MobileNet.npy\"\n",
    "\n",
    "y_train_path = r\"H:\\FYP\\final\\TrainingLabel.npy\"\n",
    "y_test_path = r\"H:\\FYP\\final\\TestingLabel.npy\"\n",
    "\n",
    "if \"DenseNet121\" in X_train_reshaped_path:\n",
    "    model_name = \"DenseNet121\"\n",
    "elif \"MobileNetV2\" in X_train_reshaped_path:\n",
    "    model_name = \"MobileNetV2\"\n",
    "elif \"EfficientNetB0\" in X_train_reshaped_path:\n",
    "    model_name = \"EfficientNetB0\"\n",
    "elif \"ShuffleNet\" in X_train_reshaped_path:\n",
    "    model_name = \"ShuffleNet\"\n",
    "elif \"MobileNet\" in X_train_reshaped_path:\n",
    "    model_name = \"MobileNet\""
   ]
  },
  {
   "cell_type": "code",
   "execution_count": 5,
   "id": "65cf6603",
   "metadata": {},
   "outputs": [
    {
     "name": "stdout",
     "output_type": "stream",
     "text": [
      "EXPERIMENT 221203_203048: MobileNet + RNN\n",
      "\n"
     ]
    },
    {
     "data": {
      "text/plain": [
       "((3200, 30, 25600), (800, 30, 25600))"
      ]
     },
     "execution_count": 5,
     "metadata": {},
     "output_type": "execute_result"
    }
   ],
   "source": [
    "print(f\"EXPERIMENT {time.strftime('%y%m%d_%H%M%S')}: {model_name} + RNN\\n\")\n",
    "\n",
    "### LOAD FEATURES DATASETS\n",
    "X_train_reshaped = np.load(X_train_reshaped_path)\n",
    "X_test_reshaped = np.load(X_test_reshaped_path)\n",
    "\n",
    "X_train_reshaped.shape, X_test_reshaped.shape"
   ]
  },
  {
   "cell_type": "code",
   "execution_count": 6,
   "id": "f4063658",
   "metadata": {},
   "outputs": [
    {
     "data": {
      "text/plain": [
       "((3200, 2), (800, 2))"
      ]
     },
     "execution_count": 6,
     "metadata": {},
     "output_type": "execute_result"
    }
   ],
   "source": [
    "y_train = np.load(y_train_path)\n",
    "y_test = np.load(y_test_path)\n",
    "\n",
    "y_train.shape, y_test.shape"
   ]
  },
  {
   "cell_type": "code",
   "execution_count": 30,
   "id": "2fabc5cb",
   "metadata": {},
   "outputs": [
    {
     "name": "stdout",
     "output_type": "stream",
     "text": [
      "Model: \"sequential_14\"\n",
      "_________________________________________________________________\n",
      " Layer (type)                Output Shape              Param #   \n",
      "=================================================================\n",
      " lstm_12 (LSTM)              (None, 15)                1536960   \n",
      "                                                                 \n",
      " dense_56 (Dense)            (None, 1024)              16384     \n",
      "                                                                 \n",
      " activation_56 (Activation)  (None, 1024)              0         \n",
      "                                                                 \n",
      " dense_57 (Dense)            (None, 256)               262400    \n",
      "                                                                 \n",
      " activation_57 (Activation)  (None, 256)               0         \n",
      "                                                                 \n",
      " dense_58 (Dense)            (None, 2)                 514       \n",
      "                                                                 \n",
      " activation_58 (Activation)  (None, 2)                 0         \n",
      "                                                                 \n",
      "=================================================================\n",
      "Total params: 1,816,258\n",
      "Trainable params: 1,816,258\n",
      "Non-trainable params: 0\n",
      "_________________________________________________________________\n"
     ]
    }
   ],
   "source": [
    "### CREATE LSTM MODEL\n",
    "\n",
    "model=tf.keras.Sequential()\n",
    "model.add(tf.keras.layers.LSTM(15, input_shape=(int(X_train_reshaped.shape[1]), int(X_train_reshaped.shape[2])))) # (n_chunks, chunk_size)\n",
    "model.add(keras.layers.Dense(1024))\n",
    "model.add(keras.layers.Activation('relu'))\n",
    "model.add(keras.layers.Dense(256))\n",
    "model.add(keras.layers.Activation('sigmoid'))\n",
    "model.add(keras.layers.Dense(2))\n",
    "model.add(keras.layers.Activation('softmax'))\n",
    "model.compile(loss='mean_squared_error', optimizer='adam', metrics=['accuracy'])\n",
    "model.summary()"
   ]
  },
  {
   "cell_type": "code",
   "execution_count": 33,
   "id": "c5ca9051",
   "metadata": {},
   "outputs": [
    {
     "name": "stdout",
     "output_type": "stream",
     "text": [
      "Epoch 1/50\n",
      "171/171 [==============================] - 51s 296ms/step - loss: 0.2536 - accuracy: 0.5078 - val_loss: 0.2928 - val_accuracy: 0.4719\n",
      "Epoch 2/50\n",
      "171/171 [==============================] - 48s 280ms/step - loss: 0.2576 - accuracy: 0.4988 - val_loss: 0.2540 - val_accuracy: 0.5281\n",
      "Epoch 3/50\n",
      "171/171 [==============================] - 46s 268ms/step - loss: 0.2562 - accuracy: 0.4844 - val_loss: 0.2502 - val_accuracy: 0.4719\n",
      "Epoch 4/50\n",
      "171/171 [==============================] - 47s 278ms/step - loss: 0.2524 - accuracy: 0.5031 - val_loss: 0.2504 - val_accuracy: 0.4719\n",
      "Epoch 5/50\n",
      "171/171 [==============================] - 52s 307ms/step - loss: 0.2526 - accuracy: 0.4945 - val_loss: 0.2496 - val_accuracy: 0.5281\n",
      "Epoch 6/50\n",
      "171/171 [==============================] - 46s 268ms/step - loss: 0.2562 - accuracy: 0.4949 - val_loss: 0.2566 - val_accuracy: 0.4719\n",
      "Epoch 7/50\n",
      "171/171 [==============================] - 45s 266ms/step - loss: 0.2551 - accuracy: 0.5063 - val_loss: 0.2501 - val_accuracy: 0.4719\n",
      "Epoch 8/50\n",
      "171/171 [==============================] - 46s 270ms/step - loss: 0.2536 - accuracy: 0.5020 - val_loss: 0.2493 - val_accuracy: 0.5281\n",
      "Epoch 9/50\n",
      "171/171 [==============================] - 45s 262ms/step - loss: 0.2534 - accuracy: 0.4961 - val_loss: 0.2562 - val_accuracy: 0.4719\n",
      "Epoch 10/50\n",
      "171/171 [==============================] - 44s 259ms/step - loss: 0.2556 - accuracy: 0.5059 - val_loss: 0.2675 - val_accuracy: 0.5281\n",
      "Epoch 11/50\n",
      "171/171 [==============================] - 46s 267ms/step - loss: 0.2581 - accuracy: 0.4789 - val_loss: 0.2496 - val_accuracy: 0.5281\n",
      "Epoch 12/50\n",
      "171/171 [==============================] - 47s 273ms/step - loss: 0.2527 - accuracy: 0.5156 - val_loss: 0.2493 - val_accuracy: 0.5281\n",
      "Epoch 13/50\n",
      "171/171 [==============================] - 48s 278ms/step - loss: 0.2526 - accuracy: 0.5008 - val_loss: 0.2509 - val_accuracy: 0.4719\n",
      "Epoch 14/50\n",
      "171/171 [==============================] - 47s 274ms/step - loss: 0.2541 - accuracy: 0.5148 - val_loss: 0.2668 - val_accuracy: 0.4719\n",
      "Epoch 15/50\n",
      "171/171 [==============================] - 46s 271ms/step - loss: 0.2526 - accuracy: 0.4953 - val_loss: 0.2510 - val_accuracy: 0.4719\n",
      "Epoch 16/50\n",
      "171/171 [==============================] - 47s 274ms/step - loss: 0.2546 - accuracy: 0.4969 - val_loss: 0.2509 - val_accuracy: 0.4719\n",
      "Epoch 17/50\n",
      "171/171 [==============================] - 49s 286ms/step - loss: 0.2520 - accuracy: 0.5078 - val_loss: 0.2699 - val_accuracy: 0.4719\n",
      "Epoch 18/50\n",
      "171/171 [==============================] - 47s 274ms/step - loss: 0.2523 - accuracy: 0.4984 - val_loss: 0.2518 - val_accuracy: 0.4719\n",
      "Epoch 19/50\n",
      "171/171 [==============================] - 46s 269ms/step - loss: 0.2534 - accuracy: 0.5074 - val_loss: 0.2593 - val_accuracy: 0.4719\n",
      "Epoch 20/50\n",
      "171/171 [==============================] - 46s 267ms/step - loss: 0.2582 - accuracy: 0.4945 - val_loss: 0.2749 - val_accuracy: 0.4719\n",
      "Epoch 21/50\n",
      "171/171 [==============================] - 47s 273ms/step - loss: 0.2543 - accuracy: 0.4949 - val_loss: 0.2551 - val_accuracy: 0.4719\n",
      "Epoch 22/50\n",
      "171/171 [==============================] - 43s 254ms/step - loss: 0.2520 - accuracy: 0.5012 - val_loss: 0.2616 - val_accuracy: 0.4719\n",
      "Epoch 23/50\n",
      "171/171 [==============================] - 42s 248ms/step - loss: 0.2528 - accuracy: 0.4984 - val_loss: 0.2521 - val_accuracy: 0.5281\n",
      "Epoch 24/50\n",
      "171/171 [==============================] - 41s 241ms/step - loss: 0.2533 - accuracy: 0.4969 - val_loss: 0.2517 - val_accuracy: 0.4719\n",
      "Epoch 25/50\n",
      "171/171 [==============================] - 43s 249ms/step - loss: 0.2534 - accuracy: 0.4961 - val_loss: 0.2548 - val_accuracy: 0.4719\n",
      "Epoch 26/50\n",
      "171/171 [==============================] - 43s 252ms/step - loss: 0.2516 - accuracy: 0.5074 - val_loss: 0.2538 - val_accuracy: 0.4719\n",
      "Epoch 27/50\n",
      "171/171 [==============================] - 43s 253ms/step - loss: 0.2554 - accuracy: 0.4969 - val_loss: 0.2519 - val_accuracy: 0.4719\n",
      "Epoch 28/50\n",
      "171/171 [==============================] - 44s 254ms/step - loss: 0.2546 - accuracy: 0.4789 - val_loss: 0.2508 - val_accuracy: 0.5281\n",
      "Epoch 29/50\n",
      "171/171 [==============================] - 44s 255ms/step - loss: 0.2553 - accuracy: 0.4969 - val_loss: 0.2494 - val_accuracy: 0.5281\n",
      "Epoch 30/50\n",
      "171/171 [==============================] - 44s 257ms/step - loss: 0.2529 - accuracy: 0.4934 - val_loss: 0.2651 - val_accuracy: 0.4719\n",
      "Epoch 31/50\n",
      "171/171 [==============================] - 42s 247ms/step - loss: 0.2521 - accuracy: 0.4891 - val_loss: 0.2496 - val_accuracy: 0.5281\n",
      "Epoch 32/50\n",
      "171/171 [==============================] - 45s 260ms/step - loss: 0.2529 - accuracy: 0.5133 - val_loss: 0.2718 - val_accuracy: 0.4719\n",
      "Epoch 33/50\n",
      "171/171 [==============================] - 44s 256ms/step - loss: 0.2535 - accuracy: 0.5066 - val_loss: 0.2565 - val_accuracy: 0.4719\n",
      "Epoch 34/50\n",
      "171/171 [==============================] - 44s 260ms/step - loss: 0.2529 - accuracy: 0.5063 - val_loss: 0.2493 - val_accuracy: 0.5281\n",
      "Epoch 35/50\n",
      "171/171 [==============================] - 45s 266ms/step - loss: 0.2532 - accuracy: 0.5066 - val_loss: 0.2492 - val_accuracy: 0.5281\n",
      "Epoch 36/50\n",
      "171/171 [==============================] - 46s 266ms/step - loss: 0.2525 - accuracy: 0.5039 - val_loss: 0.2718 - val_accuracy: 0.4719\n",
      "Epoch 37/50\n",
      "171/171 [==============================] - 46s 268ms/step - loss: 0.2556 - accuracy: 0.5027 - val_loss: 0.2537 - val_accuracy: 0.5281\n",
      "Epoch 38/50\n",
      "171/171 [==============================] - 47s 275ms/step - loss: 0.2534 - accuracy: 0.4973 - val_loss: 0.2506 - val_accuracy: 0.4719\n",
      "Epoch 39/50\n",
      "171/171 [==============================] - 48s 281ms/step - loss: 0.2537 - accuracy: 0.4938 - val_loss: 0.2512 - val_accuracy: 0.4719\n",
      "Epoch 40/50\n",
      "171/171 [==============================] - 47s 274ms/step - loss: 0.2525 - accuracy: 0.4980 - val_loss: 0.2753 - val_accuracy: 0.4719\n",
      "Epoch 41/50\n",
      "171/171 [==============================] - 44s 255ms/step - loss: 0.2560 - accuracy: 0.4891 - val_loss: 0.2494 - val_accuracy: 0.5281\n",
      "Epoch 42/50\n",
      "171/171 [==============================] - 44s 255ms/step - loss: 0.2544 - accuracy: 0.5063 - val_loss: 0.2493 - val_accuracy: 0.5281\n",
      "Epoch 43/50\n",
      " 43/171 [======>.......................] - ETA: 30s - loss: 0.2503 - accuracy: 0.5256"
     ]
    },
    {
     "ename": "KeyboardInterrupt",
     "evalue": "",
     "output_type": "error",
     "traceback": [
      "\u001b[1;31m---------------------------------------------------------------------------\u001b[0m",
      "\u001b[1;31mKeyboardInterrupt\u001b[0m                         Traceback (most recent call last)",
      "\u001b[1;32m~\\AppData\\Local\\Temp/ipykernel_11528/119773525.py\u001b[0m in \u001b[0;36m<module>\u001b[1;34m\u001b[0m\n\u001b[0;32m      3\u001b[0m \u001b[0mepoch\u001b[0m \u001b[1;33m=\u001b[0m \u001b[1;36m50\u001b[0m\u001b[1;33m\u001b[0m\u001b[1;33m\u001b[0m\u001b[0m\n\u001b[0;32m      4\u001b[0m \u001b[0mbatch_size\u001b[0m \u001b[1;33m=\u001b[0m \u001b[1;36m15\u001b[0m\u001b[1;33m\u001b[0m\u001b[1;33m\u001b[0m\u001b[0m\n\u001b[1;32m----> 5\u001b[1;33m history=model.fit(x=X_train_reshaped[0:2560], y=y_train[0:2560],\n\u001b[0m\u001b[0;32m      6\u001b[0m                   \u001b[0mepochs\u001b[0m\u001b[1;33m=\u001b[0m\u001b[0mepoch\u001b[0m\u001b[1;33m,\u001b[0m\u001b[1;33m\u001b[0m\u001b[1;33m\u001b[0m\u001b[0m\n\u001b[0;32m      7\u001b[0m                   \u001b[0mvalidation_data\u001b[0m\u001b[1;33m=\u001b[0m\u001b[1;33m(\u001b[0m\u001b[0mX_train_reshaped\u001b[0m\u001b[1;33m[\u001b[0m\u001b[1;36m2560\u001b[0m\u001b[1;33m:\u001b[0m\u001b[1;33m]\u001b[0m\u001b[1;33m,\u001b[0m \u001b[0my_train\u001b[0m\u001b[1;33m[\u001b[0m\u001b[1;36m2560\u001b[0m\u001b[1;33m:\u001b[0m\u001b[1;33m]\u001b[0m\u001b[1;33m)\u001b[0m\u001b[1;33m,\u001b[0m\u001b[1;33m\u001b[0m\u001b[1;33m\u001b[0m\u001b[0m\n",
      "\u001b[1;32mc:\\Users\\User\\anaconda3\\lib\\site-packages\\keras\\utils\\traceback_utils.py\u001b[0m in \u001b[0;36merror_handler\u001b[1;34m(*args, **kwargs)\u001b[0m\n\u001b[0;32m     62\u001b[0m     \u001b[0mfiltered_tb\u001b[0m \u001b[1;33m=\u001b[0m \u001b[1;32mNone\u001b[0m\u001b[1;33m\u001b[0m\u001b[1;33m\u001b[0m\u001b[0m\n\u001b[0;32m     63\u001b[0m     \u001b[1;32mtry\u001b[0m\u001b[1;33m:\u001b[0m\u001b[1;33m\u001b[0m\u001b[1;33m\u001b[0m\u001b[0m\n\u001b[1;32m---> 64\u001b[1;33m       \u001b[1;32mreturn\u001b[0m \u001b[0mfn\u001b[0m\u001b[1;33m(\u001b[0m\u001b[1;33m*\u001b[0m\u001b[0margs\u001b[0m\u001b[1;33m,\u001b[0m \u001b[1;33m**\u001b[0m\u001b[0mkwargs\u001b[0m\u001b[1;33m)\u001b[0m\u001b[1;33m\u001b[0m\u001b[1;33m\u001b[0m\u001b[0m\n\u001b[0m\u001b[0;32m     65\u001b[0m     \u001b[1;32mexcept\u001b[0m \u001b[0mException\u001b[0m \u001b[1;32mas\u001b[0m \u001b[0me\u001b[0m\u001b[1;33m:\u001b[0m  \u001b[1;31m# pylint: disable=broad-except\u001b[0m\u001b[1;33m\u001b[0m\u001b[1;33m\u001b[0m\u001b[0m\n\u001b[0;32m     66\u001b[0m       \u001b[0mfiltered_tb\u001b[0m \u001b[1;33m=\u001b[0m \u001b[0m_process_traceback_frames\u001b[0m\u001b[1;33m(\u001b[0m\u001b[0me\u001b[0m\u001b[1;33m.\u001b[0m\u001b[0m__traceback__\u001b[0m\u001b[1;33m)\u001b[0m\u001b[1;33m\u001b[0m\u001b[1;33m\u001b[0m\u001b[0m\n",
      "\u001b[1;32mc:\\Users\\User\\anaconda3\\lib\\site-packages\\keras\\engine\\training.py\u001b[0m in \u001b[0;36mfit\u001b[1;34m(self, x, y, batch_size, epochs, verbose, callbacks, validation_split, validation_data, shuffle, class_weight, sample_weight, initial_epoch, steps_per_epoch, validation_steps, validation_batch_size, validation_freq, max_queue_size, workers, use_multiprocessing)\u001b[0m\n\u001b[0;32m   1382\u001b[0m                 _r=1):\n\u001b[0;32m   1383\u001b[0m               \u001b[0mcallbacks\u001b[0m\u001b[1;33m.\u001b[0m\u001b[0mon_train_batch_begin\u001b[0m\u001b[1;33m(\u001b[0m\u001b[0mstep\u001b[0m\u001b[1;33m)\u001b[0m\u001b[1;33m\u001b[0m\u001b[1;33m\u001b[0m\u001b[0m\n\u001b[1;32m-> 1384\u001b[1;33m               \u001b[0mtmp_logs\u001b[0m \u001b[1;33m=\u001b[0m \u001b[0mself\u001b[0m\u001b[1;33m.\u001b[0m\u001b[0mtrain_function\u001b[0m\u001b[1;33m(\u001b[0m\u001b[0miterator\u001b[0m\u001b[1;33m)\u001b[0m\u001b[1;33m\u001b[0m\u001b[1;33m\u001b[0m\u001b[0m\n\u001b[0m\u001b[0;32m   1385\u001b[0m               \u001b[1;32mif\u001b[0m \u001b[0mdata_handler\u001b[0m\u001b[1;33m.\u001b[0m\u001b[0mshould_sync\u001b[0m\u001b[1;33m:\u001b[0m\u001b[1;33m\u001b[0m\u001b[1;33m\u001b[0m\u001b[0m\n\u001b[0;32m   1386\u001b[0m                 \u001b[0mcontext\u001b[0m\u001b[1;33m.\u001b[0m\u001b[0masync_wait\u001b[0m\u001b[1;33m(\u001b[0m\u001b[1;33m)\u001b[0m\u001b[1;33m\u001b[0m\u001b[1;33m\u001b[0m\u001b[0m\n",
      "\u001b[1;32mc:\\Users\\User\\anaconda3\\lib\\site-packages\\tensorflow\\python\\util\\traceback_utils.py\u001b[0m in \u001b[0;36merror_handler\u001b[1;34m(*args, **kwargs)\u001b[0m\n\u001b[0;32m    148\u001b[0m     \u001b[0mfiltered_tb\u001b[0m \u001b[1;33m=\u001b[0m \u001b[1;32mNone\u001b[0m\u001b[1;33m\u001b[0m\u001b[1;33m\u001b[0m\u001b[0m\n\u001b[0;32m    149\u001b[0m     \u001b[1;32mtry\u001b[0m\u001b[1;33m:\u001b[0m\u001b[1;33m\u001b[0m\u001b[1;33m\u001b[0m\u001b[0m\n\u001b[1;32m--> 150\u001b[1;33m       \u001b[1;32mreturn\u001b[0m \u001b[0mfn\u001b[0m\u001b[1;33m(\u001b[0m\u001b[1;33m*\u001b[0m\u001b[0margs\u001b[0m\u001b[1;33m,\u001b[0m \u001b[1;33m**\u001b[0m\u001b[0mkwargs\u001b[0m\u001b[1;33m)\u001b[0m\u001b[1;33m\u001b[0m\u001b[1;33m\u001b[0m\u001b[0m\n\u001b[0m\u001b[0;32m    151\u001b[0m     \u001b[1;32mexcept\u001b[0m \u001b[0mException\u001b[0m \u001b[1;32mas\u001b[0m \u001b[0me\u001b[0m\u001b[1;33m:\u001b[0m\u001b[1;33m\u001b[0m\u001b[1;33m\u001b[0m\u001b[0m\n\u001b[0;32m    152\u001b[0m       \u001b[0mfiltered_tb\u001b[0m \u001b[1;33m=\u001b[0m \u001b[0m_process_traceback_frames\u001b[0m\u001b[1;33m(\u001b[0m\u001b[0me\u001b[0m\u001b[1;33m.\u001b[0m\u001b[0m__traceback__\u001b[0m\u001b[1;33m)\u001b[0m\u001b[1;33m\u001b[0m\u001b[1;33m\u001b[0m\u001b[0m\n",
      "\u001b[1;32mc:\\Users\\User\\anaconda3\\lib\\site-packages\\tensorflow\\python\\eager\\def_function.py\u001b[0m in \u001b[0;36m__call__\u001b[1;34m(self, *args, **kwds)\u001b[0m\n\u001b[0;32m    913\u001b[0m \u001b[1;33m\u001b[0m\u001b[0m\n\u001b[0;32m    914\u001b[0m       \u001b[1;32mwith\u001b[0m \u001b[0mOptionalXlaContext\u001b[0m\u001b[1;33m(\u001b[0m\u001b[0mself\u001b[0m\u001b[1;33m.\u001b[0m\u001b[0m_jit_compile\u001b[0m\u001b[1;33m)\u001b[0m\u001b[1;33m:\u001b[0m\u001b[1;33m\u001b[0m\u001b[1;33m\u001b[0m\u001b[0m\n\u001b[1;32m--> 915\u001b[1;33m         \u001b[0mresult\u001b[0m \u001b[1;33m=\u001b[0m \u001b[0mself\u001b[0m\u001b[1;33m.\u001b[0m\u001b[0m_call\u001b[0m\u001b[1;33m(\u001b[0m\u001b[1;33m*\u001b[0m\u001b[0margs\u001b[0m\u001b[1;33m,\u001b[0m \u001b[1;33m**\u001b[0m\u001b[0mkwds\u001b[0m\u001b[1;33m)\u001b[0m\u001b[1;33m\u001b[0m\u001b[1;33m\u001b[0m\u001b[0m\n\u001b[0m\u001b[0;32m    916\u001b[0m \u001b[1;33m\u001b[0m\u001b[0m\n\u001b[0;32m    917\u001b[0m       \u001b[0mnew_tracing_count\u001b[0m \u001b[1;33m=\u001b[0m \u001b[0mself\u001b[0m\u001b[1;33m.\u001b[0m\u001b[0mexperimental_get_tracing_count\u001b[0m\u001b[1;33m(\u001b[0m\u001b[1;33m)\u001b[0m\u001b[1;33m\u001b[0m\u001b[1;33m\u001b[0m\u001b[0m\n",
      "\u001b[1;32mc:\\Users\\User\\anaconda3\\lib\\site-packages\\tensorflow\\python\\eager\\def_function.py\u001b[0m in \u001b[0;36m_call\u001b[1;34m(self, *args, **kwds)\u001b[0m\n\u001b[0;32m    945\u001b[0m       \u001b[1;31m# In this case we have created variables on the first call, so we run the\u001b[0m\u001b[1;33m\u001b[0m\u001b[1;33m\u001b[0m\u001b[0m\n\u001b[0;32m    946\u001b[0m       \u001b[1;31m# defunned version which is guaranteed to never create variables.\u001b[0m\u001b[1;33m\u001b[0m\u001b[1;33m\u001b[0m\u001b[0m\n\u001b[1;32m--> 947\u001b[1;33m       \u001b[1;32mreturn\u001b[0m \u001b[0mself\u001b[0m\u001b[1;33m.\u001b[0m\u001b[0m_stateless_fn\u001b[0m\u001b[1;33m(\u001b[0m\u001b[1;33m*\u001b[0m\u001b[0margs\u001b[0m\u001b[1;33m,\u001b[0m \u001b[1;33m**\u001b[0m\u001b[0mkwds\u001b[0m\u001b[1;33m)\u001b[0m  \u001b[1;31m# pylint: disable=not-callable\u001b[0m\u001b[1;33m\u001b[0m\u001b[1;33m\u001b[0m\u001b[0m\n\u001b[0m\u001b[0;32m    948\u001b[0m     \u001b[1;32melif\u001b[0m \u001b[0mself\u001b[0m\u001b[1;33m.\u001b[0m\u001b[0m_stateful_fn\u001b[0m \u001b[1;32mis\u001b[0m \u001b[1;32mnot\u001b[0m \u001b[1;32mNone\u001b[0m\u001b[1;33m:\u001b[0m\u001b[1;33m\u001b[0m\u001b[1;33m\u001b[0m\u001b[0m\n\u001b[0;32m    949\u001b[0m       \u001b[1;31m# Release the lock early so that multiple threads can perform the call\u001b[0m\u001b[1;33m\u001b[0m\u001b[1;33m\u001b[0m\u001b[0m\n",
      "\u001b[1;32mc:\\Users\\User\\anaconda3\\lib\\site-packages\\tensorflow\\python\\eager\\function.py\u001b[0m in \u001b[0;36m__call__\u001b[1;34m(self, *args, **kwargs)\u001b[0m\n\u001b[0;32m   2954\u001b[0m       (graph_function,\n\u001b[0;32m   2955\u001b[0m        filtered_flat_args) = self._maybe_define_function(args, kwargs)\n\u001b[1;32m-> 2956\u001b[1;33m     return graph_function._call_flat(\n\u001b[0m\u001b[0;32m   2957\u001b[0m         filtered_flat_args, captured_inputs=graph_function.captured_inputs)  # pylint: disable=protected-access\n\u001b[0;32m   2958\u001b[0m \u001b[1;33m\u001b[0m\u001b[0m\n",
      "\u001b[1;32mc:\\Users\\User\\anaconda3\\lib\\site-packages\\tensorflow\\python\\eager\\function.py\u001b[0m in \u001b[0;36m_call_flat\u001b[1;34m(self, args, captured_inputs, cancellation_manager)\u001b[0m\n\u001b[0;32m   1851\u001b[0m         and executing_eagerly):\n\u001b[0;32m   1852\u001b[0m       \u001b[1;31m# No tape is watching; skip to running the function.\u001b[0m\u001b[1;33m\u001b[0m\u001b[1;33m\u001b[0m\u001b[0m\n\u001b[1;32m-> 1853\u001b[1;33m       return self._build_call_outputs(self._inference_function.call(\n\u001b[0m\u001b[0;32m   1854\u001b[0m           ctx, args, cancellation_manager=cancellation_manager))\n\u001b[0;32m   1855\u001b[0m     forward_backward = self._select_forward_and_backward_functions(\n",
      "\u001b[1;32mc:\\Users\\User\\anaconda3\\lib\\site-packages\\tensorflow\\python\\eager\\function.py\u001b[0m in \u001b[0;36mcall\u001b[1;34m(self, ctx, args, cancellation_manager)\u001b[0m\n\u001b[0;32m    497\u001b[0m       \u001b[1;32mwith\u001b[0m \u001b[0m_InterpolateFunctionError\u001b[0m\u001b[1;33m(\u001b[0m\u001b[0mself\u001b[0m\u001b[1;33m)\u001b[0m\u001b[1;33m:\u001b[0m\u001b[1;33m\u001b[0m\u001b[1;33m\u001b[0m\u001b[0m\n\u001b[0;32m    498\u001b[0m         \u001b[1;32mif\u001b[0m \u001b[0mcancellation_manager\u001b[0m \u001b[1;32mis\u001b[0m \u001b[1;32mNone\u001b[0m\u001b[1;33m:\u001b[0m\u001b[1;33m\u001b[0m\u001b[1;33m\u001b[0m\u001b[0m\n\u001b[1;32m--> 499\u001b[1;33m           outputs = execute.execute(\n\u001b[0m\u001b[0;32m    500\u001b[0m               \u001b[0mstr\u001b[0m\u001b[1;33m(\u001b[0m\u001b[0mself\u001b[0m\u001b[1;33m.\u001b[0m\u001b[0msignature\u001b[0m\u001b[1;33m.\u001b[0m\u001b[0mname\u001b[0m\u001b[1;33m)\u001b[0m\u001b[1;33m,\u001b[0m\u001b[1;33m\u001b[0m\u001b[1;33m\u001b[0m\u001b[0m\n\u001b[0;32m    501\u001b[0m               \u001b[0mnum_outputs\u001b[0m\u001b[1;33m=\u001b[0m\u001b[0mself\u001b[0m\u001b[1;33m.\u001b[0m\u001b[0m_num_outputs\u001b[0m\u001b[1;33m,\u001b[0m\u001b[1;33m\u001b[0m\u001b[1;33m\u001b[0m\u001b[0m\n",
      "\u001b[1;32mc:\\Users\\User\\anaconda3\\lib\\site-packages\\tensorflow\\python\\eager\\execute.py\u001b[0m in \u001b[0;36mquick_execute\u001b[1;34m(op_name, num_outputs, inputs, attrs, ctx, name)\u001b[0m\n\u001b[0;32m     52\u001b[0m   \u001b[1;32mtry\u001b[0m\u001b[1;33m:\u001b[0m\u001b[1;33m\u001b[0m\u001b[1;33m\u001b[0m\u001b[0m\n\u001b[0;32m     53\u001b[0m     \u001b[0mctx\u001b[0m\u001b[1;33m.\u001b[0m\u001b[0mensure_initialized\u001b[0m\u001b[1;33m(\u001b[0m\u001b[1;33m)\u001b[0m\u001b[1;33m\u001b[0m\u001b[1;33m\u001b[0m\u001b[0m\n\u001b[1;32m---> 54\u001b[1;33m     tensors = pywrap_tfe.TFE_Py_Execute(ctx._handle, device_name, op_name,\n\u001b[0m\u001b[0;32m     55\u001b[0m                                         inputs, attrs, num_outputs)\n\u001b[0;32m     56\u001b[0m   \u001b[1;32mexcept\u001b[0m \u001b[0mcore\u001b[0m\u001b[1;33m.\u001b[0m\u001b[0m_NotOkStatusException\u001b[0m \u001b[1;32mas\u001b[0m \u001b[0me\u001b[0m\u001b[1;33m:\u001b[0m\u001b[1;33m\u001b[0m\u001b[1;33m\u001b[0m\u001b[0m\n",
      "\u001b[1;31mKeyboardInterrupt\u001b[0m: "
     ]
    }
   ],
   "source": [
    "### TRAIN LSTM MODEL\n",
    "\n",
    "epoch = 50\n",
    "batch_size = 30\n",
    "history=model.fit(x=X_train_reshaped[0:2560], y=y_train[0:2560],\n",
    "                  epochs=epoch,\n",
    "                  validation_data=(X_train_reshaped[2560:], y_train[2560:]),\n",
    "                  callbacks=[tf.keras.callbacks.ModelCheckpoint(f'{model_name}/{model_name}_Checkpoint_4000_{epoch}_{time.strftime(\"%y%m%d_%H%M%S\")}.h5', save_best_only=True)],\n",
    "                  batch_size=batch_size, verbose=1)"
   ]
  },
  {
   "cell_type": "code",
   "execution_count": null,
   "id": "720083f7",
   "metadata": {},
   "outputs": [],
   "source": [
    "### EVALUATE LSTM MODEL USING TEST SET\n",
    "result = model.evaluate(X_test_reshaped, y_test)"
   ]
  },
  {
   "cell_type": "code",
   "execution_count": null,
   "id": "41666e93",
   "metadata": {},
   "outputs": [],
   "source": [
    "for name, value in zip(model.metrics_names, result):\n",
    "    print(name, value)"
   ]
  },
  {
   "cell_type": "code",
   "execution_count": null,
   "id": "99c42b3a",
   "metadata": {},
   "outputs": [],
   "source": [
    "pred_test_list = []\n",
    "\n",
    "for i in X_test_reshaped:\n",
    "    j = i.reshape(1, i.shape[0], int(i.shape[1]))\n",
    "    predic = model.predict(j)\n",
    "    pred_test_list.append(predic)\n",
    "\n",
    "pred_max_list = []\n",
    "for j in pred_test_list:\n",
    "    k=np.round(j).astype(int)\n",
    "    pred_max_list.append(k)\n",
    "\n",
    "pred_max_list_str = []\n",
    "decision_list = []\n",
    "for l in pred_max_list:\n",
    "    m = l.tobytes().hex()\n",
    "    if m == '0100000000000000':\n",
    "        decision_list.append('Non-Violence')\n",
    "    elif m == '0000000001000000':\n",
    "        decision_list.append('Violence')\n",
    "    pred_max_list_str.append(m)\n",
    "\n",
    "\n",
    "nv_cnt = pred_max_list_str.count('0100000000000000')\n",
    "v_cnt = pred_max_list_str.count('0000000001000000')\n",
    "\n",
    "print(f'Non-Violent: {nv_cnt}')\n",
    "print(f'Violent: {v_cnt}')\n",
    "\n",
    "\n",
    "df = pd.DataFrame({'Probability':pred_test_list, 'Rounded Predictions': pred_max_list, 'Decision': decision_list})\n",
    "df.index = np.arange(1, len(df)+1)\n",
    "df.to_csv(f'{model_name}/{model_name}_RNN_{time.strftime(\"%y%m%d_%H%M%S\")}_Xtest_predictions.csv')\n",
    "\n",
    "df\n"
   ]
  },
  {
   "cell_type": "code",
   "execution_count": null,
   "id": "8e50169e",
   "metadata": {},
   "outputs": [],
   "source": [
    "plt.plot(history.history['accuracy'])\n",
    "plt.plot(history.history['val_accuracy']) # Draw Accuracy plot\n",
    "plt.title('Model Accuracy')\n",
    "plt.ylabel('Accuracy')\n",
    "plt.xlabel('Epochs')\n",
    "plt.legend(['Training', 'Validation'], loc='lower right')\n",
    "plt.savefig(f'{model_name}/{model_name}_RNN_Accuracy_{time.strftime(\"%Y%m%d-%H%M%S\")}.jpg') #save .jpg img of Accuracy plot\n",
    "plt.show()\n",
    "\n",
    "plt.plot(history.history['loss']) # Draw Loss plot\n",
    "plt.plot(history.history['val_loss'])\n",
    "plt.title('Model Loss')\n",
    "plt.ylabel('Loss')\n",
    "plt.xlabel('Epochs')\n",
    "plt.legend(['Training', 'Validation'], loc='upper right')\n",
    "plt.savefig(f'{model_name}/{model_name}_RNN_Loss_{time.strftime(\"%Y%m%d-%H%M%S\")}.jpg') #save .jpg img of Loss plot\n",
    "plt.show()"
   ]
  },
  {
   "cell_type": "code",
   "execution_count": null,
   "id": "2d687217",
   "metadata": {},
   "outputs": [],
   "source": [
    "prediction = model.predict(X_test_reshaped)"
   ]
  },
  {
   "cell_type": "code",
   "execution_count": null,
   "id": "30ed07be",
   "metadata": {},
   "outputs": [],
   "source": [
    "import seaborn as sns\n",
    "from sklearn.metrics import confusion_matrix, classification_report\n",
    "\n",
    "sns_true = np.round(prediction).astype(int)\n",
    "sns_pred = np.round(y_test)\n",
    "\n",
    "cm = confusion_matrix(sns_true.argmax(axis=1), sns_pred.argmax(axis=1))\n",
    "\n",
    "sns.heatmap(cm, cmap='Purples', annot=True , fmt = 'g',cbar=True, \n",
    "            xticklabels=[\"Non Violence\", \"Violence\"],\n",
    "           yticklabels=[\"Non Violence\", \"Violence\"])\n",
    "plt.xlabel(\"Predicted Labels\")\n",
    "plt.ylabel(\"True Labels\")\n",
    "plt.title(f\"Confusion Matrix for {model_name} + RNN\\n\")\n",
    "plt.savefig(f'{model_name}/{model_name}_RNN_ConfusionMatrix_{time.strftime(\"%Y%m%d-%H%M%S\")}.jpg')\n",
    "plt.show()"
   ]
  },
  {
   "cell_type": "code",
   "execution_count": null,
   "id": "b91b4aba",
   "metadata": {},
   "outputs": [],
   "source": [
    "print(classification_report(sns_true.argmax(axis=1), sns_pred.argmax(axis=1)))"
   ]
  },
  {
   "cell_type": "code",
   "execution_count": null,
   "id": "daca7a7d",
   "metadata": {},
   "outputs": [],
   "source": [
    "model.save(f'{model_name}/Model_{model_name}_RNN_{time.strftime(\"%Y%m%d-%H%M%S\")}.h5')"
   ]
  },
  {
   "cell_type": "code",
   "execution_count": null,
   "id": "cdd4bab3",
   "metadata": {},
   "outputs": [],
   "source": []
  }
 ],
 "metadata": {
  "kernelspec": {
   "display_name": "Python 3 (ipykernel)",
   "language": "python",
   "name": "python3"
  },
  "language_info": {
   "codemirror_mode": {
    "name": "ipython",
    "version": 3
   },
   "file_extension": ".py",
   "mimetype": "text/x-python",
   "name": "python",
   "nbconvert_exporter": "python",
   "pygments_lexer": "ipython3",
   "version": "3.9.7"
  },
  "vscode": {
   "interpreter": {
    "hash": "f08154012ddadd8e950e6e9e035c7a7b32c136e7647e9b7c77e02eb723a8bedb"
   }
  }
 },
 "nbformat": 4,
 "nbformat_minor": 5
}
